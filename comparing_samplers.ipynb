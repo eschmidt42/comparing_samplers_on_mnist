{
 "cells": [
  {
   "cell_type": "markdown",
   "metadata": {},
   "source": [
    "# Sampling on binarized MNIST"
   ]
  },
  {
   "cell_type": "markdown",
   "metadata": {},
   "source": [
    "**Note:**\n",
    "\n",
    "sklearn == 0.21.3 required for imblearn 0.5.0 to work. It's easiest to create a new conda env from scratch with sklearn and imblearn."
   ]
  },
  {
   "cell_type": "markdown",
   "metadata": {},
   "source": [
    "**Method**\n",
    "\n",
    "1. group some of the MNIST classes into two groups (binarizing)\n",
    "2. split the selected samples into train / test (`train_frac`) → the larger `train_frac` the better the coverage of the feature space\n",
    "3. skew one of the two created classes (`skew_frac`)\n",
    "4. apply oversampling & train"
   ]
  },
  {
   "cell_type": "markdown",
   "metadata": {},
   "source": [
    "**Objective**\n",
    "\n",
    "Test the benefit of using an oversampler vs not using one and the effect of `train_frac` (`skew_frac` was set to 2% as in the ROSE paper and not further explored). "
   ]
  },
  {
   "cell_type": "code",
   "execution_count": 4,
   "metadata": {},
   "outputs": [],
   "source": [
    "from sklearn.datasets import fetch_openml\n",
    "import matplotlib.pyplot as plt\n",
    "import numpy as np\n",
    "from typing import Callable\n",
    "from sklearn import ensemble, metrics, base, linear_model\n",
    "import pandas as pd\n",
    "import seaborn as sns\n",
    "import tqdm\n",
    "from imblearn.over_sampling import SMOTE, RandomOverSampler, ADASYN"
   ]
  },
  {
   "cell_type": "code",
   "execution_count": 5,
   "metadata": {},
   "outputs": [],
   "source": [
    "plt.style.use('bmh')"
   ]
  },
  {
   "cell_type": "code",
   "execution_count": 6,
   "metadata": {
    "scrolled": true
   },
   "outputs": [
    {
     "name": "stdout",
     "output_type": "stream",
     "text": [
      "CPU times: user 11 s, sys: 1.03 s, total: 12.1 s\n",
      "Wall time: 12.1 s\n"
     ]
    }
   ],
   "source": [
    "%%time\n",
    "X, y = fetch_openml('mnist_784', version=1, return_X_y=True)"
   ]
  },
  {
   "cell_type": "code",
   "execution_count": 7,
   "metadata": {},
   "outputs": [
    {
     "data": {
      "text/plain": [
       "((70000, 784),\n",
       " array([[0., 0., 0., 0., 0.],\n",
       "        [0., 0., 0., 0., 0.],\n",
       "        [0., 0., 0., 0., 0.],\n",
       "        [0., 0., 0., 0., 0.],\n",
       "        [0., 0., 0., 0., 0.]]),\n",
       " array(['5', '0', '4', '1', '9'], dtype=object))"
      ]
     },
     "execution_count": 7,
     "metadata": {},
     "output_type": "execute_result"
    }
   ],
   "source": [
    "X.shape, X[:5,:5], y[:5]"
   ]
  },
  {
   "cell_type": "code",
   "execution_count": 8,
   "metadata": {
    "scrolled": true
   },
   "outputs": [],
   "source": [
    "X = pd.DataFrame(X).add_prefix('pixel')\n",
    "y = pd.DataFrame({'class':y})\n",
    "y = y['class'].astype('category')"
   ]
  },
  {
   "cell_type": "code",
   "execution_count": 9,
   "metadata": {},
   "outputs": [
    {
     "data": {
      "text/html": [
       "<div>\n",
       "<style scoped>\n",
       "    .dataframe tbody tr th:only-of-type {\n",
       "        vertical-align: middle;\n",
       "    }\n",
       "\n",
       "    .dataframe tbody tr th {\n",
       "        vertical-align: top;\n",
       "    }\n",
       "\n",
       "    .dataframe thead th {\n",
       "        text-align: right;\n",
       "    }\n",
       "</style>\n",
       "<table border=\"1\" class=\"dataframe\">\n",
       "  <thead>\n",
       "    <tr style=\"text-align: right;\">\n",
       "      <th></th>\n",
       "      <th>pixel0</th>\n",
       "      <th>pixel1</th>\n",
       "      <th>pixel2</th>\n",
       "      <th>pixel3</th>\n",
       "      <th>pixel4</th>\n",
       "      <th>pixel5</th>\n",
       "      <th>pixel6</th>\n",
       "      <th>pixel7</th>\n",
       "      <th>pixel8</th>\n",
       "      <th>pixel9</th>\n",
       "      <th>...</th>\n",
       "      <th>pixel774</th>\n",
       "      <th>pixel775</th>\n",
       "      <th>pixel776</th>\n",
       "      <th>pixel777</th>\n",
       "      <th>pixel778</th>\n",
       "      <th>pixel779</th>\n",
       "      <th>pixel780</th>\n",
       "      <th>pixel781</th>\n",
       "      <th>pixel782</th>\n",
       "      <th>pixel783</th>\n",
       "    </tr>\n",
       "  </thead>\n",
       "  <tbody>\n",
       "    <tr>\n",
       "      <th>0</th>\n",
       "      <td>0.0</td>\n",
       "      <td>0.0</td>\n",
       "      <td>0.0</td>\n",
       "      <td>0.0</td>\n",
       "      <td>0.0</td>\n",
       "      <td>0.0</td>\n",
       "      <td>0.0</td>\n",
       "      <td>0.0</td>\n",
       "      <td>0.0</td>\n",
       "      <td>0.0</td>\n",
       "      <td>...</td>\n",
       "      <td>0.0</td>\n",
       "      <td>0.0</td>\n",
       "      <td>0.0</td>\n",
       "      <td>0.0</td>\n",
       "      <td>0.0</td>\n",
       "      <td>0.0</td>\n",
       "      <td>0.0</td>\n",
       "      <td>0.0</td>\n",
       "      <td>0.0</td>\n",
       "      <td>0.0</td>\n",
       "    </tr>\n",
       "    <tr>\n",
       "      <th>1</th>\n",
       "      <td>0.0</td>\n",
       "      <td>0.0</td>\n",
       "      <td>0.0</td>\n",
       "      <td>0.0</td>\n",
       "      <td>0.0</td>\n",
       "      <td>0.0</td>\n",
       "      <td>0.0</td>\n",
       "      <td>0.0</td>\n",
       "      <td>0.0</td>\n",
       "      <td>0.0</td>\n",
       "      <td>...</td>\n",
       "      <td>0.0</td>\n",
       "      <td>0.0</td>\n",
       "      <td>0.0</td>\n",
       "      <td>0.0</td>\n",
       "      <td>0.0</td>\n",
       "      <td>0.0</td>\n",
       "      <td>0.0</td>\n",
       "      <td>0.0</td>\n",
       "      <td>0.0</td>\n",
       "      <td>0.0</td>\n",
       "    </tr>\n",
       "    <tr>\n",
       "      <th>2</th>\n",
       "      <td>0.0</td>\n",
       "      <td>0.0</td>\n",
       "      <td>0.0</td>\n",
       "      <td>0.0</td>\n",
       "      <td>0.0</td>\n",
       "      <td>0.0</td>\n",
       "      <td>0.0</td>\n",
       "      <td>0.0</td>\n",
       "      <td>0.0</td>\n",
       "      <td>0.0</td>\n",
       "      <td>...</td>\n",
       "      <td>0.0</td>\n",
       "      <td>0.0</td>\n",
       "      <td>0.0</td>\n",
       "      <td>0.0</td>\n",
       "      <td>0.0</td>\n",
       "      <td>0.0</td>\n",
       "      <td>0.0</td>\n",
       "      <td>0.0</td>\n",
       "      <td>0.0</td>\n",
       "      <td>0.0</td>\n",
       "    </tr>\n",
       "    <tr>\n",
       "      <th>3</th>\n",
       "      <td>0.0</td>\n",
       "      <td>0.0</td>\n",
       "      <td>0.0</td>\n",
       "      <td>0.0</td>\n",
       "      <td>0.0</td>\n",
       "      <td>0.0</td>\n",
       "      <td>0.0</td>\n",
       "      <td>0.0</td>\n",
       "      <td>0.0</td>\n",
       "      <td>0.0</td>\n",
       "      <td>...</td>\n",
       "      <td>0.0</td>\n",
       "      <td>0.0</td>\n",
       "      <td>0.0</td>\n",
       "      <td>0.0</td>\n",
       "      <td>0.0</td>\n",
       "      <td>0.0</td>\n",
       "      <td>0.0</td>\n",
       "      <td>0.0</td>\n",
       "      <td>0.0</td>\n",
       "      <td>0.0</td>\n",
       "    </tr>\n",
       "    <tr>\n",
       "      <th>4</th>\n",
       "      <td>0.0</td>\n",
       "      <td>0.0</td>\n",
       "      <td>0.0</td>\n",
       "      <td>0.0</td>\n",
       "      <td>0.0</td>\n",
       "      <td>0.0</td>\n",
       "      <td>0.0</td>\n",
       "      <td>0.0</td>\n",
       "      <td>0.0</td>\n",
       "      <td>0.0</td>\n",
       "      <td>...</td>\n",
       "      <td>0.0</td>\n",
       "      <td>0.0</td>\n",
       "      <td>0.0</td>\n",
       "      <td>0.0</td>\n",
       "      <td>0.0</td>\n",
       "      <td>0.0</td>\n",
       "      <td>0.0</td>\n",
       "      <td>0.0</td>\n",
       "      <td>0.0</td>\n",
       "      <td>0.0</td>\n",
       "    </tr>\n",
       "  </tbody>\n",
       "</table>\n",
       "<p>5 rows × 784 columns</p>\n",
       "</div>"
      ],
      "text/plain": [
       "   pixel0  pixel1  pixel2  pixel3  pixel4  pixel5  pixel6  pixel7  pixel8  \\\n",
       "0     0.0     0.0     0.0     0.0     0.0     0.0     0.0     0.0     0.0   \n",
       "1     0.0     0.0     0.0     0.0     0.0     0.0     0.0     0.0     0.0   \n",
       "2     0.0     0.0     0.0     0.0     0.0     0.0     0.0     0.0     0.0   \n",
       "3     0.0     0.0     0.0     0.0     0.0     0.0     0.0     0.0     0.0   \n",
       "4     0.0     0.0     0.0     0.0     0.0     0.0     0.0     0.0     0.0   \n",
       "\n",
       "   pixel9  ...  pixel774  pixel775  pixel776  pixel777  pixel778  pixel779  \\\n",
       "0     0.0  ...       0.0       0.0       0.0       0.0       0.0       0.0   \n",
       "1     0.0  ...       0.0       0.0       0.0       0.0       0.0       0.0   \n",
       "2     0.0  ...       0.0       0.0       0.0       0.0       0.0       0.0   \n",
       "3     0.0  ...       0.0       0.0       0.0       0.0       0.0       0.0   \n",
       "4     0.0  ...       0.0       0.0       0.0       0.0       0.0       0.0   \n",
       "\n",
       "   pixel780  pixel781  pixel782  pixel783  \n",
       "0       0.0       0.0       0.0       0.0  \n",
       "1       0.0       0.0       0.0       0.0  \n",
       "2       0.0       0.0       0.0       0.0  \n",
       "3       0.0       0.0       0.0       0.0  \n",
       "4       0.0       0.0       0.0       0.0  \n",
       "\n",
       "[5 rows x 784 columns]"
      ]
     },
     "metadata": {},
     "output_type": "display_data"
    },
    {
     "data": {
      "text/plain": [
       "0    5\n",
       "1    0\n",
       "2    4\n",
       "3    1\n",
       "4    9\n",
       "Name: class, dtype: category\n",
       "Categories (10, object): [0, 1, 2, 3, ..., 6, 7, 8, 9]"
      ]
     },
     "metadata": {},
     "output_type": "display_data"
    }
   ],
   "source": [
    "display(X.head(), y.head())"
   ]
  },
  {
   "cell_type": "code",
   "execution_count": 10,
   "metadata": {
    "scrolled": true
   },
   "outputs": [
    {
     "data": {
      "text/html": [
       "<div>\n",
       "<style scoped>\n",
       "    .dataframe tbody tr th:only-of-type {\n",
       "        vertical-align: middle;\n",
       "    }\n",
       "\n",
       "    .dataframe tbody tr th {\n",
       "        vertical-align: top;\n",
       "    }\n",
       "\n",
       "    .dataframe thead th {\n",
       "        text-align: right;\n",
       "    }\n",
       "</style>\n",
       "<table border=\"1\" class=\"dataframe\">\n",
       "  <thead>\n",
       "    <tr style=\"text-align: right;\">\n",
       "      <th></th>\n",
       "      <th>pixel0</th>\n",
       "      <th>pixel1</th>\n",
       "      <th>pixel2</th>\n",
       "      <th>pixel3</th>\n",
       "      <th>pixel4</th>\n",
       "      <th>pixel5</th>\n",
       "      <th>pixel6</th>\n",
       "      <th>pixel7</th>\n",
       "      <th>pixel8</th>\n",
       "      <th>pixel9</th>\n",
       "      <th>...</th>\n",
       "      <th>pixel775</th>\n",
       "      <th>pixel776</th>\n",
       "      <th>pixel777</th>\n",
       "      <th>pixel778</th>\n",
       "      <th>pixel779</th>\n",
       "      <th>pixel780</th>\n",
       "      <th>pixel781</th>\n",
       "      <th>pixel782</th>\n",
       "      <th>pixel783</th>\n",
       "      <th>class</th>\n",
       "    </tr>\n",
       "  </thead>\n",
       "  <tbody>\n",
       "    <tr>\n",
       "      <th>0</th>\n",
       "      <td>0.0</td>\n",
       "      <td>0.0</td>\n",
       "      <td>0.0</td>\n",
       "      <td>0.0</td>\n",
       "      <td>0.0</td>\n",
       "      <td>0.0</td>\n",
       "      <td>0.0</td>\n",
       "      <td>0.0</td>\n",
       "      <td>0.0</td>\n",
       "      <td>0.0</td>\n",
       "      <td>...</td>\n",
       "      <td>0.0</td>\n",
       "      <td>0.0</td>\n",
       "      <td>0.0</td>\n",
       "      <td>0.0</td>\n",
       "      <td>0.0</td>\n",
       "      <td>0.0</td>\n",
       "      <td>0.0</td>\n",
       "      <td>0.0</td>\n",
       "      <td>0.0</td>\n",
       "      <td>5</td>\n",
       "    </tr>\n",
       "    <tr>\n",
       "      <th>1</th>\n",
       "      <td>0.0</td>\n",
       "      <td>0.0</td>\n",
       "      <td>0.0</td>\n",
       "      <td>0.0</td>\n",
       "      <td>0.0</td>\n",
       "      <td>0.0</td>\n",
       "      <td>0.0</td>\n",
       "      <td>0.0</td>\n",
       "      <td>0.0</td>\n",
       "      <td>0.0</td>\n",
       "      <td>...</td>\n",
       "      <td>0.0</td>\n",
       "      <td>0.0</td>\n",
       "      <td>0.0</td>\n",
       "      <td>0.0</td>\n",
       "      <td>0.0</td>\n",
       "      <td>0.0</td>\n",
       "      <td>0.0</td>\n",
       "      <td>0.0</td>\n",
       "      <td>0.0</td>\n",
       "      <td>0</td>\n",
       "    </tr>\n",
       "    <tr>\n",
       "      <th>2</th>\n",
       "      <td>0.0</td>\n",
       "      <td>0.0</td>\n",
       "      <td>0.0</td>\n",
       "      <td>0.0</td>\n",
       "      <td>0.0</td>\n",
       "      <td>0.0</td>\n",
       "      <td>0.0</td>\n",
       "      <td>0.0</td>\n",
       "      <td>0.0</td>\n",
       "      <td>0.0</td>\n",
       "      <td>...</td>\n",
       "      <td>0.0</td>\n",
       "      <td>0.0</td>\n",
       "      <td>0.0</td>\n",
       "      <td>0.0</td>\n",
       "      <td>0.0</td>\n",
       "      <td>0.0</td>\n",
       "      <td>0.0</td>\n",
       "      <td>0.0</td>\n",
       "      <td>0.0</td>\n",
       "      <td>4</td>\n",
       "    </tr>\n",
       "    <tr>\n",
       "      <th>3</th>\n",
       "      <td>0.0</td>\n",
       "      <td>0.0</td>\n",
       "      <td>0.0</td>\n",
       "      <td>0.0</td>\n",
       "      <td>0.0</td>\n",
       "      <td>0.0</td>\n",
       "      <td>0.0</td>\n",
       "      <td>0.0</td>\n",
       "      <td>0.0</td>\n",
       "      <td>0.0</td>\n",
       "      <td>...</td>\n",
       "      <td>0.0</td>\n",
       "      <td>0.0</td>\n",
       "      <td>0.0</td>\n",
       "      <td>0.0</td>\n",
       "      <td>0.0</td>\n",
       "      <td>0.0</td>\n",
       "      <td>0.0</td>\n",
       "      <td>0.0</td>\n",
       "      <td>0.0</td>\n",
       "      <td>1</td>\n",
       "    </tr>\n",
       "    <tr>\n",
       "      <th>4</th>\n",
       "      <td>0.0</td>\n",
       "      <td>0.0</td>\n",
       "      <td>0.0</td>\n",
       "      <td>0.0</td>\n",
       "      <td>0.0</td>\n",
       "      <td>0.0</td>\n",
       "      <td>0.0</td>\n",
       "      <td>0.0</td>\n",
       "      <td>0.0</td>\n",
       "      <td>0.0</td>\n",
       "      <td>...</td>\n",
       "      <td>0.0</td>\n",
       "      <td>0.0</td>\n",
       "      <td>0.0</td>\n",
       "      <td>0.0</td>\n",
       "      <td>0.0</td>\n",
       "      <td>0.0</td>\n",
       "      <td>0.0</td>\n",
       "      <td>0.0</td>\n",
       "      <td>0.0</td>\n",
       "      <td>9</td>\n",
       "    </tr>\n",
       "  </tbody>\n",
       "</table>\n",
       "<p>5 rows × 785 columns</p>\n",
       "</div>"
      ],
      "text/plain": [
       "   pixel0  pixel1  pixel2  pixel3  pixel4  pixel5  pixel6  pixel7  pixel8  \\\n",
       "0     0.0     0.0     0.0     0.0     0.0     0.0     0.0     0.0     0.0   \n",
       "1     0.0     0.0     0.0     0.0     0.0     0.0     0.0     0.0     0.0   \n",
       "2     0.0     0.0     0.0     0.0     0.0     0.0     0.0     0.0     0.0   \n",
       "3     0.0     0.0     0.0     0.0     0.0     0.0     0.0     0.0     0.0   \n",
       "4     0.0     0.0     0.0     0.0     0.0     0.0     0.0     0.0     0.0   \n",
       "\n",
       "   pixel9  ...  pixel775  pixel776  pixel777  pixel778  pixel779  pixel780  \\\n",
       "0     0.0  ...       0.0       0.0       0.0       0.0       0.0       0.0   \n",
       "1     0.0  ...       0.0       0.0       0.0       0.0       0.0       0.0   \n",
       "2     0.0  ...       0.0       0.0       0.0       0.0       0.0       0.0   \n",
       "3     0.0  ...       0.0       0.0       0.0       0.0       0.0       0.0   \n",
       "4     0.0  ...       0.0       0.0       0.0       0.0       0.0       0.0   \n",
       "\n",
       "   pixel781  pixel782  pixel783  class  \n",
       "0       0.0       0.0       0.0      5  \n",
       "1       0.0       0.0       0.0      0  \n",
       "2       0.0       0.0       0.0      4  \n",
       "3       0.0       0.0       0.0      1  \n",
       "4       0.0       0.0       0.0      9  \n",
       "\n",
       "[5 rows x 785 columns]"
      ]
     },
     "metadata": {},
     "output_type": "display_data"
    },
    {
     "data": {
      "text/plain": [
       "(70000, None)"
      ]
     },
     "execution_count": 10,
     "metadata": {},
     "output_type": "execute_result"
    }
   ],
   "source": [
    "df = X.join(y)\n",
    "len(df), display(df.head())"
   ]
  },
  {
   "cell_type": "markdown",
   "metadata": {},
   "source": [
    "## Pre-processing"
   ]
  },
  {
   "cell_type": "markdown",
   "metadata": {},
   "source": [
    "### Binarizing"
   ]
  },
  {
   "cell_type": "markdown",
   "metadata": {},
   "source": [
    "Reducing to 0 and 1"
   ]
  },
  {
   "cell_type": "code",
   "execution_count": 11,
   "metadata": {},
   "outputs": [],
   "source": [
    "def get_share_and_count(df:pd.DataFrame, col:str='class'):\n",
    "    share = df[col].value_counts(normalize=True).rename('share')\n",
    "    count = df[col].value_counts(normalize=False).rename('count')\n",
    "    return share.to_frame().join(count)\n",
    "\n",
    "def make_binary(df:pd.DataFrame, set0:set, set1:set):\n",
    "    'Binarize any two sets of classes and return a DataFrame for only those classes labeled as False or True'\n",
    "    assert len(set0) > 0 and len(set1) > 0\n",
    "    assert set0 != set1\n",
    "    \n",
    "    df_b0 = df.loc[df['class'].isin(set0)].copy()\n",
    "    df_b1 = df.loc[df['class'].isin(set1)].copy()\n",
    "    df_b0['class'] = False\n",
    "    df_b1['class'] = True\n",
    "    \n",
    "    df_b = pd.concat((df_b0, df_b1))\n",
    "    df_b['class'] = df_b['class'].astype('category')\n",
    "    return df_b"
   ]
  },
  {
   "cell_type": "code",
   "execution_count": 12,
   "metadata": {
    "scrolled": true
   },
   "outputs": [
    {
     "name": "stdout",
     "output_type": "stream",
     "text": [
      "df: 70000, df_b: 21604\n"
     ]
    },
    {
     "data": {
      "text/html": [
       "<div>\n",
       "<style scoped>\n",
       "    .dataframe tbody tr th:only-of-type {\n",
       "        vertical-align: middle;\n",
       "    }\n",
       "\n",
       "    .dataframe tbody tr th {\n",
       "        vertical-align: top;\n",
       "    }\n",
       "\n",
       "    .dataframe thead th {\n",
       "        text-align: right;\n",
       "    }\n",
       "</style>\n",
       "<table border=\"1\" class=\"dataframe\">\n",
       "  <thead>\n",
       "    <tr style=\"text-align: right;\">\n",
       "      <th></th>\n",
       "      <th>share</th>\n",
       "      <th>count</th>\n",
       "    </tr>\n",
       "  </thead>\n",
       "  <tbody>\n",
       "    <tr>\n",
       "      <th>False</th>\n",
       "      <td>0.684133</td>\n",
       "      <td>14780</td>\n",
       "    </tr>\n",
       "    <tr>\n",
       "      <th>True</th>\n",
       "      <td>0.315867</td>\n",
       "      <td>6824</td>\n",
       "    </tr>\n",
       "  </tbody>\n",
       "</table>\n",
       "</div>"
      ],
      "text/plain": [
       "          share  count\n",
       "False  0.684133  14780\n",
       "True   0.315867   6824"
      ]
     },
     "metadata": {},
     "output_type": "display_data"
    },
    {
     "name": "stdout",
     "output_type": "stream",
     "text": [
      "CPU times: user 93.8 ms, sys: 219 ms, total: 312 ms\n",
      "Wall time: 365 ms\n"
     ]
    }
   ],
   "source": [
    "%%time\n",
    "df_b = make_binary(df, {'0', '1'}, {'4'})\n",
    "print(f'df: {len(df)}, df_b: {len(df_b)}')\n",
    "display(get_share_and_count(df_b))"
   ]
  },
  {
   "cell_type": "code",
   "execution_count": 13,
   "metadata": {
    "scrolled": true
   },
   "outputs": [
    {
     "name": "stdout",
     "output_type": "stream",
     "text": [
      "df: 70000, df_b: 13728\n",
      "CPU times: user 78.1 ms, sys: 78.1 ms, total: 156 ms\n",
      "Wall time: 173 ms\n"
     ]
    }
   ],
   "source": [
    "%%time\n",
    "df_b = make_binary(df, {'0'}, {'8'})\n",
    "print(f'df: {len(df)}, df_b: {len(df_b)}')"
   ]
  },
  {
   "cell_type": "markdown",
   "metadata": {},
   "source": [
    "### Get skewed training set & balanced test set"
   ]
  },
  {
   "cell_type": "code",
   "execution_count": 14,
   "metadata": {},
   "outputs": [],
   "source": [
    "def get_skewed_train_and_balanced_test_set(df_b:pd.DataFrame, train_frac:float=.8, skew_frac:float=.02,\n",
    "                                           class_to_skew:bool=True, verbose:bool=False):\n",
    "    '''Generates a balanced test set and a skewed training set with `class_to_skew` \n",
    "    making up the fraction `skew_frac` of the total.\n",
    "    \n",
    "    Works with the `df_b` produced by `make_binary`.\n",
    "    '''\n",
    "    df_test = df_b.sample(frac=1-train_frac)\n",
    "    df_train = df_b.loc[~df_b['class'].index.isin(df_test.index)]\n",
    "    \n",
    "    n = min(df_train['class'].value_counts().values)\n",
    "    n_skew = int(n * skew_frac / (1 - skew_frac))\n",
    "    \n",
    "    df_train = pd.concat((\n",
    "        df_train.loc[df_train['class']==class_to_skew].iloc[:n].sample(n=n_skew),\n",
    "        df_train.loc[df_train['class']!=class_to_skew].iloc[:n]\n",
    "    ))\n",
    "    \n",
    "    if verbose:\n",
    "        print(f'train set: {len(df_train)}')\n",
    "        display(get_share_and_count(df_train))\n",
    "        print(f'test set: {len(df_test)}')\n",
    "        display(get_share_and_count(df_test))\n",
    "    return df_train, df_test"
   ]
  },
  {
   "cell_type": "code",
   "execution_count": 15,
   "metadata": {},
   "outputs": [
    {
     "name": "stdout",
     "output_type": "stream",
     "text": [
      "train set: 5587\n"
     ]
    },
    {
     "data": {
      "text/html": [
       "<div>\n",
       "<style scoped>\n",
       "    .dataframe tbody tr th:only-of-type {\n",
       "        vertical-align: middle;\n",
       "    }\n",
       "\n",
       "    .dataframe tbody tr th {\n",
       "        vertical-align: top;\n",
       "    }\n",
       "\n",
       "    .dataframe thead th {\n",
       "        text-align: right;\n",
       "    }\n",
       "</style>\n",
       "<table border=\"1\" class=\"dataframe\">\n",
       "  <thead>\n",
       "    <tr style=\"text-align: right;\">\n",
       "      <th></th>\n",
       "      <th>share</th>\n",
       "      <th>count</th>\n",
       "    </tr>\n",
       "  </thead>\n",
       "  <tbody>\n",
       "    <tr>\n",
       "      <th>False</th>\n",
       "      <td>0.980132</td>\n",
       "      <td>5476</td>\n",
       "    </tr>\n",
       "    <tr>\n",
       "      <th>True</th>\n",
       "      <td>0.019868</td>\n",
       "      <td>111</td>\n",
       "    </tr>\n",
       "  </tbody>\n",
       "</table>\n",
       "</div>"
      ],
      "text/plain": [
       "          share  count\n",
       "False  0.980132   5476\n",
       "True   0.019868    111"
      ]
     },
     "metadata": {},
     "output_type": "display_data"
    },
    {
     "name": "stdout",
     "output_type": "stream",
     "text": [
      "test set: 2746\n"
     ]
    },
    {
     "data": {
      "text/html": [
       "<div>\n",
       "<style scoped>\n",
       "    .dataframe tbody tr th:only-of-type {\n",
       "        vertical-align: middle;\n",
       "    }\n",
       "\n",
       "    .dataframe tbody tr th {\n",
       "        vertical-align: top;\n",
       "    }\n",
       "\n",
       "    .dataframe thead th {\n",
       "        text-align: right;\n",
       "    }\n",
       "</style>\n",
       "<table border=\"1\" class=\"dataframe\">\n",
       "  <thead>\n",
       "    <tr style=\"text-align: right;\">\n",
       "      <th></th>\n",
       "      <th>share</th>\n",
       "      <th>count</th>\n",
       "    </tr>\n",
       "  </thead>\n",
       "  <tbody>\n",
       "    <tr>\n",
       "      <th>False</th>\n",
       "      <td>0.50874</td>\n",
       "      <td>1397</td>\n",
       "    </tr>\n",
       "    <tr>\n",
       "      <th>True</th>\n",
       "      <td>0.49126</td>\n",
       "      <td>1349</td>\n",
       "    </tr>\n",
       "  </tbody>\n",
       "</table>\n",
       "</div>"
      ],
      "text/plain": [
       "         share  count\n",
       "False  0.50874   1397\n",
       "True   0.49126   1349"
      ]
     },
     "metadata": {},
     "output_type": "display_data"
    },
    {
     "name": "stdout",
     "output_type": "stream",
     "text": [
      "CPU times: user 93.8 ms, sys: 78.1 ms, total: 172 ms\n",
      "Wall time: 147 ms\n"
     ]
    }
   ],
   "source": [
    "%%time\n",
    "df_train, df_test = get_skewed_train_and_balanced_test_set(df_b, train_frac=.8, skew_frac=.02, class_to_skew=True,\n",
    "                                                           verbose=True)"
   ]
  },
  {
   "cell_type": "code",
   "execution_count": 16,
   "metadata": {},
   "outputs": [],
   "source": [
    "def get_Xy(df:pd.DataFrame, x_col_pattern:str='pixel', y_col:str='class'):\n",
    "    x_cols = [c for c in df.columns if c.startswith(x_col_pattern)]\n",
    "    X = df.loc[:,].values.astype(float)\n",
    "    y = df.loc[:, y_col].values.astype(int)\n",
    "    return X, y"
   ]
  },
  {
   "cell_type": "code",
   "execution_count": 17,
   "metadata": {},
   "outputs": [
    {
     "data": {
      "text/plain": [
       "(array([[0., 0., 0., 0., 0.],\n",
       "        [0., 0., 0., 0., 0.],\n",
       "        [0., 0., 0., 0., 0.],\n",
       "        [0., 0., 0., 0., 0.],\n",
       "        [0., 0., 0., 0., 0.]]),\n",
       " array([1, 1, 1, 1, 1]),\n",
       " (5587, 785),\n",
       " (5587,))"
      ]
     },
     "execution_count": 17,
     "metadata": {},
     "output_type": "execute_result"
    }
   ],
   "source": [
    "X_train, y_train = get_Xy(df_train)\n",
    "X_train[:5,:5], y_train[:5], X_train.shape, y_train.shape"
   ]
  },
  {
   "cell_type": "code",
   "execution_count": 18,
   "metadata": {},
   "outputs": [
    {
     "data": {
      "text/plain": [
       "(array([[0., 0., 0., 0., 0.],\n",
       "        [0., 0., 0., 0., 0.],\n",
       "        [0., 0., 0., 0., 0.],\n",
       "        [0., 0., 0., 0., 0.],\n",
       "        [0., 0., 0., 0., 0.]]),\n",
       " array([1, 1, 1, 0, 0]),\n",
       " (2746, 785),\n",
       " (2746,))"
      ]
     },
     "execution_count": 18,
     "metadata": {},
     "output_type": "execute_result"
    }
   ],
   "source": [
    "X_test, y_test = get_Xy(df_test)\n",
    "X_test[:5,:5], y_test[:5], X_test.shape, y_test.shape"
   ]
  },
  {
   "cell_type": "markdown",
   "metadata": {},
   "source": [
    "### Impact of sampler on the cardinality of `X`"
   ]
  },
  {
   "cell_type": "code",
   "execution_count": 19,
   "metadata": {},
   "outputs": [],
   "source": [
    "def get_X_cardinality(X:np.ndarray):\n",
    "    return len(set([tuple(x) for x in X]))"
   ]
  },
  {
   "cell_type": "markdown",
   "metadata": {},
   "source": [
    "Unsampled"
   ]
  },
  {
   "cell_type": "code",
   "execution_count": 20,
   "metadata": {},
   "outputs": [
    {
     "name": "stdout",
     "output_type": "stream",
     "text": [
      "train - samples: 5587, cardinality: 5587\n"
     ]
    }
   ],
   "source": [
    "print(f'train - samples: {len(X_train)}, cardinality: {get_X_cardinality(X_train)}')"
   ]
  },
  {
   "cell_type": "markdown",
   "metadata": {},
   "source": [
    "`RandomOverSampler`"
   ]
  },
  {
   "cell_type": "code",
   "execution_count": 21,
   "metadata": {},
   "outputs": [
    {
     "name": "stdout",
     "output_type": "stream",
     "text": [
      "train - samples: 10952, cardinality: 5587\n"
     ]
    }
   ],
   "source": [
    "_X, _y = RandomOverSampler().fit_resample(X_train, y_train)\n",
    "print(f'train - samples: {len(_X)}, cardinality: {get_X_cardinality(_X)}')"
   ]
  },
  {
   "cell_type": "markdown",
   "metadata": {},
   "source": [
    "`SMOTE`"
   ]
  },
  {
   "cell_type": "code",
   "execution_count": 22,
   "metadata": {},
   "outputs": [
    {
     "name": "stdout",
     "output_type": "stream",
     "text": [
      "train - samples: 10952, cardinality: 10952\n"
     ]
    }
   ],
   "source": [
    "_X, _y = SMOTE().fit_resample(X_train, y_train)\n",
    "print(f'train - samples: {len(_X)}, cardinality: {get_X_cardinality(_X)}')"
   ]
  },
  {
   "cell_type": "markdown",
   "metadata": {},
   "source": [
    "## Going nuts"
   ]
  },
  {
   "cell_type": "code",
   "execution_count": 23,
   "metadata": {},
   "outputs": [],
   "source": [
    "def ELWMS(df:pd.DataFrame, set0:set={'0'}, set1:set={'1'}, n_rep:int=10, \n",
    "          train_frac:float=.8, skew_frac:float=.02, class_to_skew:bool=True,\n",
    "          model_specs:dict=None, model_class:base.ClassifierMixin=linear_model.LogisticRegression,\n",
    "          samplers:dict={'ROS':RandomOverSampler, 'SMOTE': SMOTE, 'nothing': None}, verbose:bool=False):\n",
    "    '''Eierlegendewollmilchsau (performs all the steps above repeatedly)\n",
    "    \n",
    "    set0: defines which MNIST classes are mapped to False/0\n",
    "    set1: defines which MNIST classes are mapped to True/1\n",
    "    train_frac: defines how large the training set is\n",
    "    skew_frac: defines how large the class True in the training set is\n",
    "    \n",
    "    Tip: If you want a tiny training set which is heavily skewed towards the class False\n",
    "    set `train_frac` = .1, `skew_frac` = .02 and `class_to_skew` = False. This yields\n",
    "    a training set with 2% True, 98% False, based on 10% of the complete data.\n",
    "    '''\n",
    "    \n",
    "    results = []\n",
    "    \n",
    "    if model_specs is None:\n",
    "        model_specs = dict()\n",
    "    elif isinstance(model_class, ensemble.RandomForestClassifier) and model_specs is None:\n",
    "        model_specs = dict(n_estimators=100, max_features='sqrt')\n",
    "    \n",
    "    \n",
    "    for rep in range(n_rep):\n",
    "        \n",
    "        # binarizing sets of MNIST classes\n",
    "        df_b = make_binary(df, set0, set1)\n",
    "        \n",
    "        # splitting and skewing\n",
    "        df_train, df_test = get_skewed_train_and_balanced_test_set(df_b, train_frac=train_frac, \n",
    "                                                                   skew_frac=skew_frac, \n",
    "                                                                   class_to_skew=class_to_skew)\n",
    "        if verbose:\n",
    "            print(f'\\nrep {rep+1}/{n_rep}\\n\\ttraining set: {len(df_train)}, test set: {len(df_test)}')\n",
    "            print('class share in training set')\n",
    "            display(get_share_and_count(df_train))\n",
    "            print('class share in test set')\n",
    "            display(get_share_and_count(df_test))\n",
    "        \n",
    "        # collecting X and y\n",
    "        X_train, y_train = get_Xy(df_train)\n",
    "        X_test, y_test = get_Xy(df_test)\n",
    "        \n",
    "        # going through the different samplers\n",
    "        for name, sampler in samplers.items():\n",
    "            if sampler is None:\n",
    "                _X_train, _y_train = X_train.copy(), y_train.copy()\n",
    "            else:\n",
    "                sam = sampler()\n",
    "                _X_train, _y_train = sam.fit_resample(X_train, y_train)\n",
    "\n",
    "            model = model_class(**model_specs)\n",
    "            model.fit(_X_train, _y_train)\n",
    "\n",
    "            y_pred = model.predict(X_test)\n",
    "            y_score = model.predict_proba(X_test)\n",
    "            roc_auc_True = metrics.roc_auc_score(y_test == True, y_score[:,1])\n",
    "            roc_auc_False = metrics.roc_auc_score(y_test == False, y_score[:,0])\n",
    "            \n",
    "            res = metrics.classification_report(y_test, y_pred, output_dict=True)\n",
    "            d = {k:v for k,v in res.items() if not isinstance(v,dict)}\n",
    "            d['sampler'] = name\n",
    "            d['1->roc auc'] = roc_auc_True\n",
    "            d['0->roc auc'] = roc_auc_False\n",
    "            for k,v in res.items():\n",
    "                if isinstance(v,dict):\n",
    "                    d.update({f'{k}->{_k}': _v for _k,_v in v.items()})\n",
    "            results.append(d)\n",
    "            \n",
    "    results = pd.DataFrame(results)\n",
    "    results['train_frac'] = train_frac\n",
    "    return results"
   ]
  },
  {
   "cell_type": "markdown",
   "metadata": {},
   "source": [
    "### Testing a single parameter combination"
   ]
  },
  {
   "cell_type": "code",
   "execution_count": 68,
   "metadata": {
    "scrolled": true
   },
   "outputs": [
    {
     "name": "stdout",
     "output_type": "stream",
     "text": [
      "\n",
      "rep 1/10\n",
      "\ttraining set: 5645, test set: 2779\n",
      "class share in training set\n"
     ]
    },
    {
     "data": {
      "text/html": [
       "<div>\n",
       "<style scoped>\n",
       "    .dataframe tbody tr th:only-of-type {\n",
       "        vertical-align: middle;\n",
       "    }\n",
       "\n",
       "    .dataframe tbody tr th {\n",
       "        vertical-align: top;\n",
       "    }\n",
       "\n",
       "    .dataframe thead th {\n",
       "        text-align: right;\n",
       "    }\n",
       "</style>\n",
       "<table border=\"1\" class=\"dataframe\">\n",
       "  <thead>\n",
       "    <tr style=\"text-align: right;\">\n",
       "      <th></th>\n",
       "      <th>share</th>\n",
       "      <th>count</th>\n",
       "    </tr>\n",
       "  </thead>\n",
       "  <tbody>\n",
       "    <tr>\n",
       "      <th>False</th>\n",
       "      <td>0.980159</td>\n",
       "      <td>5533</td>\n",
       "    </tr>\n",
       "    <tr>\n",
       "      <th>True</th>\n",
       "      <td>0.019841</td>\n",
       "      <td>112</td>\n",
       "    </tr>\n",
       "  </tbody>\n",
       "</table>\n",
       "</div>"
      ],
      "text/plain": [
       "          share  count\n",
       "False  0.980159   5533\n",
       "True   0.019841    112"
      ]
     },
     "metadata": {},
     "output_type": "display_data"
    },
    {
     "name": "stdout",
     "output_type": "stream",
     "text": [
      "class share in test set\n"
     ]
    },
    {
     "data": {
      "text/html": [
       "<div>\n",
       "<style scoped>\n",
       "    .dataframe tbody tr th:only-of-type {\n",
       "        vertical-align: middle;\n",
       "    }\n",
       "\n",
       "    .dataframe tbody tr th {\n",
       "        vertical-align: top;\n",
       "    }\n",
       "\n",
       "    .dataframe thead th {\n",
       "        text-align: right;\n",
       "    }\n",
       "</style>\n",
       "<table border=\"1\" class=\"dataframe\">\n",
       "  <thead>\n",
       "    <tr style=\"text-align: right;\">\n",
       "      <th></th>\n",
       "      <th>share</th>\n",
       "      <th>count</th>\n",
       "    </tr>\n",
       "  </thead>\n",
       "  <tbody>\n",
       "    <tr>\n",
       "      <th>True</th>\n",
       "      <td>0.507017</td>\n",
       "      <td>1409</td>\n",
       "    </tr>\n",
       "    <tr>\n",
       "      <th>False</th>\n",
       "      <td>0.492983</td>\n",
       "      <td>1370</td>\n",
       "    </tr>\n",
       "  </tbody>\n",
       "</table>\n",
       "</div>"
      ],
      "text/plain": [
       "          share  count\n",
       "True   0.507017   1409\n",
       "False  0.492983   1370"
      ]
     },
     "metadata": {},
     "output_type": "display_data"
    },
    {
     "name": "stderr",
     "output_type": "stream",
     "text": [
      "/mnt/c/Programs_wsl/anaconda3/envs/py37_imbalanced/lib/python3.7/site-packages/sklearn/linear_model/logistic.py:947: ConvergenceWarning: lbfgs failed to converge. Increase the number of iterations.\n",
      "  \"of iterations.\", ConvergenceWarning)\n"
     ]
    },
    {
     "name": "stdout",
     "output_type": "stream",
     "text": [
      "\n",
      "rep 2/10\n",
      "\ttraining set: 5600, test set: 2779\n",
      "class share in training set\n"
     ]
    },
    {
     "data": {
      "text/html": [
       "<div>\n",
       "<style scoped>\n",
       "    .dataframe tbody tr th:only-of-type {\n",
       "        vertical-align: middle;\n",
       "    }\n",
       "\n",
       "    .dataframe tbody tr th {\n",
       "        vertical-align: top;\n",
       "    }\n",
       "\n",
       "    .dataframe thead th {\n",
       "        text-align: right;\n",
       "    }\n",
       "</style>\n",
       "<table border=\"1\" class=\"dataframe\">\n",
       "  <thead>\n",
       "    <tr style=\"text-align: right;\">\n",
       "      <th></th>\n",
       "      <th>share</th>\n",
       "      <th>count</th>\n",
       "    </tr>\n",
       "  </thead>\n",
       "  <tbody>\n",
       "    <tr>\n",
       "      <th>False</th>\n",
       "      <td>0.98</td>\n",
       "      <td>5488</td>\n",
       "    </tr>\n",
       "    <tr>\n",
       "      <th>True</th>\n",
       "      <td>0.02</td>\n",
       "      <td>112</td>\n",
       "    </tr>\n",
       "  </tbody>\n",
       "</table>\n",
       "</div>"
      ],
      "text/plain": [
       "       share  count\n",
       "False   0.98   5488\n",
       "True    0.02    112"
      ]
     },
     "metadata": {},
     "output_type": "display_data"
    },
    {
     "name": "stdout",
     "output_type": "stream",
     "text": [
      "class share in test set\n"
     ]
    },
    {
     "data": {
      "text/html": [
       "<div>\n",
       "<style scoped>\n",
       "    .dataframe tbody tr th:only-of-type {\n",
       "        vertical-align: middle;\n",
       "    }\n",
       "\n",
       "    .dataframe tbody tr th {\n",
       "        vertical-align: top;\n",
       "    }\n",
       "\n",
       "    .dataframe thead th {\n",
       "        text-align: right;\n",
       "    }\n",
       "</style>\n",
       "<table border=\"1\" class=\"dataframe\">\n",
       "  <thead>\n",
       "    <tr style=\"text-align: right;\">\n",
       "      <th></th>\n",
       "      <th>share</th>\n",
       "      <th>count</th>\n",
       "    </tr>\n",
       "  </thead>\n",
       "  <tbody>\n",
       "    <tr>\n",
       "      <th>False</th>\n",
       "      <td>0.509176</td>\n",
       "      <td>1415</td>\n",
       "    </tr>\n",
       "    <tr>\n",
       "      <th>True</th>\n",
       "      <td>0.490824</td>\n",
       "      <td>1364</td>\n",
       "    </tr>\n",
       "  </tbody>\n",
       "</table>\n",
       "</div>"
      ],
      "text/plain": [
       "          share  count\n",
       "False  0.509176   1415\n",
       "True   0.490824   1364"
      ]
     },
     "metadata": {},
     "output_type": "display_data"
    },
    {
     "name": "stderr",
     "output_type": "stream",
     "text": [
      "/mnt/c/Programs_wsl/anaconda3/envs/py37_imbalanced/lib/python3.7/site-packages/sklearn/linear_model/logistic.py:947: ConvergenceWarning: lbfgs failed to converge. Increase the number of iterations.\n",
      "  \"of iterations.\", ConvergenceWarning)\n",
      "/mnt/c/Programs_wsl/anaconda3/envs/py37_imbalanced/lib/python3.7/site-packages/sklearn/linear_model/logistic.py:947: ConvergenceWarning: lbfgs failed to converge. Increase the number of iterations.\n",
      "  \"of iterations.\", ConvergenceWarning)\n",
      "/mnt/c/Programs_wsl/anaconda3/envs/py37_imbalanced/lib/python3.7/site-packages/sklearn/linear_model/logistic.py:947: ConvergenceWarning: lbfgs failed to converge. Increase the number of iterations.\n",
      "  \"of iterations.\", ConvergenceWarning)\n"
     ]
    },
    {
     "name": "stdout",
     "output_type": "stream",
     "text": [
      "\n",
      "rep 3/10\n",
      "\ttraining set: 5640, test set: 2779\n",
      "class share in training set\n"
     ]
    },
    {
     "data": {
      "text/html": [
       "<div>\n",
       "<style scoped>\n",
       "    .dataframe tbody tr th:only-of-type {\n",
       "        vertical-align: middle;\n",
       "    }\n",
       "\n",
       "    .dataframe tbody tr th {\n",
       "        vertical-align: top;\n",
       "    }\n",
       "\n",
       "    .dataframe thead th {\n",
       "        text-align: right;\n",
       "    }\n",
       "</style>\n",
       "<table border=\"1\" class=\"dataframe\">\n",
       "  <thead>\n",
       "    <tr style=\"text-align: right;\">\n",
       "      <th></th>\n",
       "      <th>share</th>\n",
       "      <th>count</th>\n",
       "    </tr>\n",
       "  </thead>\n",
       "  <tbody>\n",
       "    <tr>\n",
       "      <th>False</th>\n",
       "      <td>0.980142</td>\n",
       "      <td>5528</td>\n",
       "    </tr>\n",
       "    <tr>\n",
       "      <th>True</th>\n",
       "      <td>0.019858</td>\n",
       "      <td>112</td>\n",
       "    </tr>\n",
       "  </tbody>\n",
       "</table>\n",
       "</div>"
      ],
      "text/plain": [
       "          share  count\n",
       "False  0.980142   5528\n",
       "True   0.019858    112"
      ]
     },
     "metadata": {},
     "output_type": "display_data"
    },
    {
     "name": "stdout",
     "output_type": "stream",
     "text": [
      "class share in test set\n"
     ]
    },
    {
     "data": {
      "text/html": [
       "<div>\n",
       "<style scoped>\n",
       "    .dataframe tbody tr th:only-of-type {\n",
       "        vertical-align: middle;\n",
       "    }\n",
       "\n",
       "    .dataframe tbody tr th {\n",
       "        vertical-align: top;\n",
       "    }\n",
       "\n",
       "    .dataframe thead th {\n",
       "        text-align: right;\n",
       "    }\n",
       "</style>\n",
       "<table border=\"1\" class=\"dataframe\">\n",
       "  <thead>\n",
       "    <tr style=\"text-align: right;\">\n",
       "      <th></th>\n",
       "      <th>share</th>\n",
       "      <th>count</th>\n",
       "    </tr>\n",
       "  </thead>\n",
       "  <tbody>\n",
       "    <tr>\n",
       "      <th>True</th>\n",
       "      <td>0.505218</td>\n",
       "      <td>1404</td>\n",
       "    </tr>\n",
       "    <tr>\n",
       "      <th>False</th>\n",
       "      <td>0.494782</td>\n",
       "      <td>1375</td>\n",
       "    </tr>\n",
       "  </tbody>\n",
       "</table>\n",
       "</div>"
      ],
      "text/plain": [
       "          share  count\n",
       "True   0.505218   1404\n",
       "False  0.494782   1375"
      ]
     },
     "metadata": {},
     "output_type": "display_data"
    },
    {
     "name": "stdout",
     "output_type": "stream",
     "text": [
      "\n",
      "rep 4/10\n",
      "\ttraining set: 5642, test set: 2779\n",
      "class share in training set\n"
     ]
    },
    {
     "data": {
      "text/html": [
       "<div>\n",
       "<style scoped>\n",
       "    .dataframe tbody tr th:only-of-type {\n",
       "        vertical-align: middle;\n",
       "    }\n",
       "\n",
       "    .dataframe tbody tr th {\n",
       "        vertical-align: top;\n",
       "    }\n",
       "\n",
       "    .dataframe thead th {\n",
       "        text-align: right;\n",
       "    }\n",
       "</style>\n",
       "<table border=\"1\" class=\"dataframe\">\n",
       "  <thead>\n",
       "    <tr style=\"text-align: right;\">\n",
       "      <th></th>\n",
       "      <th>share</th>\n",
       "      <th>count</th>\n",
       "    </tr>\n",
       "  </thead>\n",
       "  <tbody>\n",
       "    <tr>\n",
       "      <th>False</th>\n",
       "      <td>0.980149</td>\n",
       "      <td>5530</td>\n",
       "    </tr>\n",
       "    <tr>\n",
       "      <th>True</th>\n",
       "      <td>0.019851</td>\n",
       "      <td>112</td>\n",
       "    </tr>\n",
       "  </tbody>\n",
       "</table>\n",
       "</div>"
      ],
      "text/plain": [
       "          share  count\n",
       "False  0.980149   5530\n",
       "True   0.019851    112"
      ]
     },
     "metadata": {},
     "output_type": "display_data"
    },
    {
     "name": "stdout",
     "output_type": "stream",
     "text": [
      "class share in test set\n"
     ]
    },
    {
     "data": {
      "text/html": [
       "<div>\n",
       "<style scoped>\n",
       "    .dataframe tbody tr th:only-of-type {\n",
       "        vertical-align: middle;\n",
       "    }\n",
       "\n",
       "    .dataframe tbody tr th {\n",
       "        vertical-align: top;\n",
       "    }\n",
       "\n",
       "    .dataframe thead th {\n",
       "        text-align: right;\n",
       "    }\n",
       "</style>\n",
       "<table border=\"1\" class=\"dataframe\">\n",
       "  <thead>\n",
       "    <tr style=\"text-align: right;\">\n",
       "      <th></th>\n",
       "      <th>share</th>\n",
       "      <th>count</th>\n",
       "    </tr>\n",
       "  </thead>\n",
       "  <tbody>\n",
       "    <tr>\n",
       "      <th>True</th>\n",
       "      <td>0.505937</td>\n",
       "      <td>1406</td>\n",
       "    </tr>\n",
       "    <tr>\n",
       "      <th>False</th>\n",
       "      <td>0.494063</td>\n",
       "      <td>1373</td>\n",
       "    </tr>\n",
       "  </tbody>\n",
       "</table>\n",
       "</div>"
      ],
      "text/plain": [
       "          share  count\n",
       "True   0.505937   1406\n",
       "False  0.494063   1373"
      ]
     },
     "metadata": {},
     "output_type": "display_data"
    },
    {
     "name": "stdout",
     "output_type": "stream",
     "text": [
      "\n",
      "rep 5/10\n",
      "\ttraining set: 5613, test set: 2779\n",
      "class share in training set\n"
     ]
    },
    {
     "data": {
      "text/html": [
       "<div>\n",
       "<style scoped>\n",
       "    .dataframe tbody tr th:only-of-type {\n",
       "        vertical-align: middle;\n",
       "    }\n",
       "\n",
       "    .dataframe tbody tr th {\n",
       "        vertical-align: top;\n",
       "    }\n",
       "\n",
       "    .dataframe thead th {\n",
       "        text-align: right;\n",
       "    }\n",
       "</style>\n",
       "<table border=\"1\" class=\"dataframe\">\n",
       "  <thead>\n",
       "    <tr style=\"text-align: right;\">\n",
       "      <th></th>\n",
       "      <th>share</th>\n",
       "      <th>count</th>\n",
       "    </tr>\n",
       "  </thead>\n",
       "  <tbody>\n",
       "    <tr>\n",
       "      <th>False</th>\n",
       "      <td>0.980046</td>\n",
       "      <td>5501</td>\n",
       "    </tr>\n",
       "    <tr>\n",
       "      <th>True</th>\n",
       "      <td>0.019954</td>\n",
       "      <td>112</td>\n",
       "    </tr>\n",
       "  </tbody>\n",
       "</table>\n",
       "</div>"
      ],
      "text/plain": [
       "          share  count\n",
       "False  0.980046   5501\n",
       "True   0.019954    112"
      ]
     },
     "metadata": {},
     "output_type": "display_data"
    },
    {
     "name": "stdout",
     "output_type": "stream",
     "text": [
      "class share in test set\n"
     ]
    },
    {
     "data": {
      "text/html": [
       "<div>\n",
       "<style scoped>\n",
       "    .dataframe tbody tr th:only-of-type {\n",
       "        vertical-align: middle;\n",
       "    }\n",
       "\n",
       "    .dataframe tbody tr th {\n",
       "        vertical-align: top;\n",
       "    }\n",
       "\n",
       "    .dataframe thead th {\n",
       "        text-align: right;\n",
       "    }\n",
       "</style>\n",
       "<table border=\"1\" class=\"dataframe\">\n",
       "  <thead>\n",
       "    <tr style=\"text-align: right;\">\n",
       "      <th></th>\n",
       "      <th>share</th>\n",
       "      <th>count</th>\n",
       "    </tr>\n",
       "  </thead>\n",
       "  <tbody>\n",
       "    <tr>\n",
       "      <th>False</th>\n",
       "      <td>0.504498</td>\n",
       "      <td>1402</td>\n",
       "    </tr>\n",
       "    <tr>\n",
       "      <th>True</th>\n",
       "      <td>0.495502</td>\n",
       "      <td>1377</td>\n",
       "    </tr>\n",
       "  </tbody>\n",
       "</table>\n",
       "</div>"
      ],
      "text/plain": [
       "          share  count\n",
       "False  0.504498   1402\n",
       "True   0.495502   1377"
      ]
     },
     "metadata": {},
     "output_type": "display_data"
    },
    {
     "name": "stderr",
     "output_type": "stream",
     "text": [
      "/mnt/c/Programs_wsl/anaconda3/envs/py37_imbalanced/lib/python3.7/site-packages/sklearn/linear_model/logistic.py:947: ConvergenceWarning: lbfgs failed to converge. Increase the number of iterations.\n",
      "  \"of iterations.\", ConvergenceWarning)\n",
      "/mnt/c/Programs_wsl/anaconda3/envs/py37_imbalanced/lib/python3.7/site-packages/sklearn/linear_model/logistic.py:947: ConvergenceWarning: lbfgs failed to converge. Increase the number of iterations.\n",
      "  \"of iterations.\", ConvergenceWarning)\n"
     ]
    },
    {
     "name": "stdout",
     "output_type": "stream",
     "text": [
      "\n",
      "rep 6/10\n",
      "\ttraining set: 5628, test set: 2779\n",
      "class share in training set\n"
     ]
    },
    {
     "data": {
      "text/html": [
       "<div>\n",
       "<style scoped>\n",
       "    .dataframe tbody tr th:only-of-type {\n",
       "        vertical-align: middle;\n",
       "    }\n",
       "\n",
       "    .dataframe tbody tr th {\n",
       "        vertical-align: top;\n",
       "    }\n",
       "\n",
       "    .dataframe thead th {\n",
       "        text-align: right;\n",
       "    }\n",
       "</style>\n",
       "<table border=\"1\" class=\"dataframe\">\n",
       "  <thead>\n",
       "    <tr style=\"text-align: right;\">\n",
       "      <th></th>\n",
       "      <th>share</th>\n",
       "      <th>count</th>\n",
       "    </tr>\n",
       "  </thead>\n",
       "  <tbody>\n",
       "    <tr>\n",
       "      <th>False</th>\n",
       "      <td>0.9801</td>\n",
       "      <td>5516</td>\n",
       "    </tr>\n",
       "    <tr>\n",
       "      <th>True</th>\n",
       "      <td>0.0199</td>\n",
       "      <td>112</td>\n",
       "    </tr>\n",
       "  </tbody>\n",
       "</table>\n",
       "</div>"
      ],
      "text/plain": [
       "        share  count\n",
       "False  0.9801   5516\n",
       "True   0.0199    112"
      ]
     },
     "metadata": {},
     "output_type": "display_data"
    },
    {
     "name": "stdout",
     "output_type": "stream",
     "text": [
      "class share in test set\n"
     ]
    },
    {
     "data": {
      "text/html": [
       "<div>\n",
       "<style scoped>\n",
       "    .dataframe tbody tr th:only-of-type {\n",
       "        vertical-align: middle;\n",
       "    }\n",
       "\n",
       "    .dataframe tbody tr th {\n",
       "        vertical-align: top;\n",
       "    }\n",
       "\n",
       "    .dataframe thead th {\n",
       "        text-align: right;\n",
       "    }\n",
       "</style>\n",
       "<table border=\"1\" class=\"dataframe\">\n",
       "  <thead>\n",
       "    <tr style=\"text-align: right;\">\n",
       "      <th></th>\n",
       "      <th>share</th>\n",
       "      <th>count</th>\n",
       "    </tr>\n",
       "  </thead>\n",
       "  <tbody>\n",
       "    <tr>\n",
       "      <th>True</th>\n",
       "      <td>0.5009</td>\n",
       "      <td>1392</td>\n",
       "    </tr>\n",
       "    <tr>\n",
       "      <th>False</th>\n",
       "      <td>0.4991</td>\n",
       "      <td>1387</td>\n",
       "    </tr>\n",
       "  </tbody>\n",
       "</table>\n",
       "</div>"
      ],
      "text/plain": [
       "        share  count\n",
       "True   0.5009   1392\n",
       "False  0.4991   1387"
      ]
     },
     "metadata": {},
     "output_type": "display_data"
    },
    {
     "name": "stderr",
     "output_type": "stream",
     "text": [
      "/mnt/c/Programs_wsl/anaconda3/envs/py37_imbalanced/lib/python3.7/site-packages/sklearn/linear_model/logistic.py:947: ConvergenceWarning: lbfgs failed to converge. Increase the number of iterations.\n",
      "  \"of iterations.\", ConvergenceWarning)\n",
      "/mnt/c/Programs_wsl/anaconda3/envs/py37_imbalanced/lib/python3.7/site-packages/sklearn/linear_model/logistic.py:947: ConvergenceWarning: lbfgs failed to converge. Increase the number of iterations.\n",
      "  \"of iterations.\", ConvergenceWarning)\n",
      "/mnt/c/Programs_wsl/anaconda3/envs/py37_imbalanced/lib/python3.7/site-packages/sklearn/linear_model/logistic.py:947: ConvergenceWarning: lbfgs failed to converge. Increase the number of iterations.\n",
      "  \"of iterations.\", ConvergenceWarning)\n"
     ]
    },
    {
     "name": "stdout",
     "output_type": "stream",
     "text": [
      "\n",
      "rep 7/10\n",
      "\ttraining set: 5650, test set: 2779\n",
      "class share in training set\n"
     ]
    },
    {
     "data": {
      "text/html": [
       "<div>\n",
       "<style scoped>\n",
       "    .dataframe tbody tr th:only-of-type {\n",
       "        vertical-align: middle;\n",
       "    }\n",
       "\n",
       "    .dataframe tbody tr th {\n",
       "        vertical-align: top;\n",
       "    }\n",
       "\n",
       "    .dataframe thead th {\n",
       "        text-align: right;\n",
       "    }\n",
       "</style>\n",
       "<table border=\"1\" class=\"dataframe\">\n",
       "  <thead>\n",
       "    <tr style=\"text-align: right;\">\n",
       "      <th></th>\n",
       "      <th>share</th>\n",
       "      <th>count</th>\n",
       "    </tr>\n",
       "  </thead>\n",
       "  <tbody>\n",
       "    <tr>\n",
       "      <th>False</th>\n",
       "      <td>0.98</td>\n",
       "      <td>5537</td>\n",
       "    </tr>\n",
       "    <tr>\n",
       "      <th>True</th>\n",
       "      <td>0.02</td>\n",
       "      <td>113</td>\n",
       "    </tr>\n",
       "  </tbody>\n",
       "</table>\n",
       "</div>"
      ],
      "text/plain": [
       "       share  count\n",
       "False   0.98   5537\n",
       "True    0.02    113"
      ]
     },
     "metadata": {},
     "output_type": "display_data"
    },
    {
     "name": "stdout",
     "output_type": "stream",
     "text": [
      "class share in test set\n"
     ]
    },
    {
     "data": {
      "text/html": [
       "<div>\n",
       "<style scoped>\n",
       "    .dataframe tbody tr th:only-of-type {\n",
       "        vertical-align: middle;\n",
       "    }\n",
       "\n",
       "    .dataframe tbody tr th {\n",
       "        vertical-align: top;\n",
       "    }\n",
       "\n",
       "    .dataframe thead th {\n",
       "        text-align: right;\n",
       "    }\n",
       "</style>\n",
       "<table border=\"1\" class=\"dataframe\">\n",
       "  <thead>\n",
       "    <tr style=\"text-align: right;\">\n",
       "      <th></th>\n",
       "      <th>share</th>\n",
       "      <th>count</th>\n",
       "    </tr>\n",
       "  </thead>\n",
       "  <tbody>\n",
       "    <tr>\n",
       "      <th>True</th>\n",
       "      <td>0.508456</td>\n",
       "      <td>1413</td>\n",
       "    </tr>\n",
       "    <tr>\n",
       "      <th>False</th>\n",
       "      <td>0.491544</td>\n",
       "      <td>1366</td>\n",
       "    </tr>\n",
       "  </tbody>\n",
       "</table>\n",
       "</div>"
      ],
      "text/plain": [
       "          share  count\n",
       "True   0.508456   1413\n",
       "False  0.491544   1366"
      ]
     },
     "metadata": {},
     "output_type": "display_data"
    },
    {
     "name": "stdout",
     "output_type": "stream",
     "text": [
      "\n",
      "rep 8/10\n",
      "\ttraining set: 5635, test set: 2779\n",
      "class share in training set\n"
     ]
    },
    {
     "data": {
      "text/html": [
       "<div>\n",
       "<style scoped>\n",
       "    .dataframe tbody tr th:only-of-type {\n",
       "        vertical-align: middle;\n",
       "    }\n",
       "\n",
       "    .dataframe tbody tr th {\n",
       "        vertical-align: top;\n",
       "    }\n",
       "\n",
       "    .dataframe thead th {\n",
       "        text-align: right;\n",
       "    }\n",
       "</style>\n",
       "<table border=\"1\" class=\"dataframe\">\n",
       "  <thead>\n",
       "    <tr style=\"text-align: right;\">\n",
       "      <th></th>\n",
       "      <th>share</th>\n",
       "      <th>count</th>\n",
       "    </tr>\n",
       "  </thead>\n",
       "  <tbody>\n",
       "    <tr>\n",
       "      <th>False</th>\n",
       "      <td>0.980124</td>\n",
       "      <td>5523</td>\n",
       "    </tr>\n",
       "    <tr>\n",
       "      <th>True</th>\n",
       "      <td>0.019876</td>\n",
       "      <td>112</td>\n",
       "    </tr>\n",
       "  </tbody>\n",
       "</table>\n",
       "</div>"
      ],
      "text/plain": [
       "          share  count\n",
       "False  0.980124   5523\n",
       "True   0.019876    112"
      ]
     },
     "metadata": {},
     "output_type": "display_data"
    },
    {
     "name": "stdout",
     "output_type": "stream",
     "text": [
      "class share in test set\n"
     ]
    },
    {
     "data": {
      "text/html": [
       "<div>\n",
       "<style scoped>\n",
       "    .dataframe tbody tr th:only-of-type {\n",
       "        vertical-align: middle;\n",
       "    }\n",
       "\n",
       "    .dataframe tbody tr th {\n",
       "        vertical-align: top;\n",
       "    }\n",
       "\n",
       "    .dataframe thead th {\n",
       "        text-align: right;\n",
       "    }\n",
       "</style>\n",
       "<table border=\"1\" class=\"dataframe\">\n",
       "  <thead>\n",
       "    <tr style=\"text-align: right;\">\n",
       "      <th></th>\n",
       "      <th>share</th>\n",
       "      <th>count</th>\n",
       "    </tr>\n",
       "  </thead>\n",
       "  <tbody>\n",
       "    <tr>\n",
       "      <th>True</th>\n",
       "      <td>0.503418</td>\n",
       "      <td>1399</td>\n",
       "    </tr>\n",
       "    <tr>\n",
       "      <th>False</th>\n",
       "      <td>0.496582</td>\n",
       "      <td>1380</td>\n",
       "    </tr>\n",
       "  </tbody>\n",
       "</table>\n",
       "</div>"
      ],
      "text/plain": [
       "          share  count\n",
       "True   0.503418   1399\n",
       "False  0.496582   1380"
      ]
     },
     "metadata": {},
     "output_type": "display_data"
    },
    {
     "name": "stderr",
     "output_type": "stream",
     "text": [
      "/mnt/c/Programs_wsl/anaconda3/envs/py37_imbalanced/lib/python3.7/site-packages/sklearn/linear_model/logistic.py:947: ConvergenceWarning: lbfgs failed to converge. Increase the number of iterations.\n",
      "  \"of iterations.\", ConvergenceWarning)\n"
     ]
    },
    {
     "name": "stdout",
     "output_type": "stream",
     "text": [
      "\n",
      "rep 9/10\n",
      "\ttraining set: 5622, test set: 2779\n",
      "class share in training set\n"
     ]
    },
    {
     "data": {
      "text/html": [
       "<div>\n",
       "<style scoped>\n",
       "    .dataframe tbody tr th:only-of-type {\n",
       "        vertical-align: middle;\n",
       "    }\n",
       "\n",
       "    .dataframe tbody tr th {\n",
       "        vertical-align: top;\n",
       "    }\n",
       "\n",
       "    .dataframe thead th {\n",
       "        text-align: right;\n",
       "    }\n",
       "</style>\n",
       "<table border=\"1\" class=\"dataframe\">\n",
       "  <thead>\n",
       "    <tr style=\"text-align: right;\">\n",
       "      <th></th>\n",
       "      <th>share</th>\n",
       "      <th>count</th>\n",
       "    </tr>\n",
       "  </thead>\n",
       "  <tbody>\n",
       "    <tr>\n",
       "      <th>False</th>\n",
       "      <td>0.980078</td>\n",
       "      <td>5510</td>\n",
       "    </tr>\n",
       "    <tr>\n",
       "      <th>True</th>\n",
       "      <td>0.019922</td>\n",
       "      <td>112</td>\n",
       "    </tr>\n",
       "  </tbody>\n",
       "</table>\n",
       "</div>"
      ],
      "text/plain": [
       "          share  count\n",
       "False  0.980078   5510\n",
       "True   0.019922    112"
      ]
     },
     "metadata": {},
     "output_type": "display_data"
    },
    {
     "name": "stdout",
     "output_type": "stream",
     "text": [
      "class share in test set\n"
     ]
    },
    {
     "data": {
      "text/html": [
       "<div>\n",
       "<style scoped>\n",
       "    .dataframe tbody tr th:only-of-type {\n",
       "        vertical-align: middle;\n",
       "    }\n",
       "\n",
       "    .dataframe tbody tr th {\n",
       "        vertical-align: top;\n",
       "    }\n",
       "\n",
       "    .dataframe thead th {\n",
       "        text-align: right;\n",
       "    }\n",
       "</style>\n",
       "<table border=\"1\" class=\"dataframe\">\n",
       "  <thead>\n",
       "    <tr style=\"text-align: right;\">\n",
       "      <th></th>\n",
       "      <th>share</th>\n",
       "      <th>count</th>\n",
       "    </tr>\n",
       "  </thead>\n",
       "  <tbody>\n",
       "    <tr>\n",
       "      <th>False</th>\n",
       "      <td>0.501259</td>\n",
       "      <td>1393</td>\n",
       "    </tr>\n",
       "    <tr>\n",
       "      <th>True</th>\n",
       "      <td>0.498741</td>\n",
       "      <td>1386</td>\n",
       "    </tr>\n",
       "  </tbody>\n",
       "</table>\n",
       "</div>"
      ],
      "text/plain": [
       "          share  count\n",
       "False  0.501259   1393\n",
       "True   0.498741   1386"
      ]
     },
     "metadata": {},
     "output_type": "display_data"
    },
    {
     "name": "stdout",
     "output_type": "stream",
     "text": [
      "\n",
      "rep 10/10\n",
      "\ttraining set: 5592, test set: 2779\n",
      "class share in training set\n"
     ]
    },
    {
     "data": {
      "text/html": [
       "<div>\n",
       "<style scoped>\n",
       "    .dataframe tbody tr th:only-of-type {\n",
       "        vertical-align: middle;\n",
       "    }\n",
       "\n",
       "    .dataframe tbody tr th {\n",
       "        vertical-align: top;\n",
       "    }\n",
       "\n",
       "    .dataframe thead th {\n",
       "        text-align: right;\n",
       "    }\n",
       "</style>\n",
       "<table border=\"1\" class=\"dataframe\">\n",
       "  <thead>\n",
       "    <tr style=\"text-align: right;\">\n",
       "      <th></th>\n",
       "      <th>share</th>\n",
       "      <th>count</th>\n",
       "    </tr>\n",
       "  </thead>\n",
       "  <tbody>\n",
       "    <tr>\n",
       "      <th>False</th>\n",
       "      <td>0.98015</td>\n",
       "      <td>5481</td>\n",
       "    </tr>\n",
       "    <tr>\n",
       "      <th>True</th>\n",
       "      <td>0.01985</td>\n",
       "      <td>111</td>\n",
       "    </tr>\n",
       "  </tbody>\n",
       "</table>\n",
       "</div>"
      ],
      "text/plain": [
       "         share  count\n",
       "False  0.98015   5481\n",
       "True   0.01985    111"
      ]
     },
     "metadata": {},
     "output_type": "display_data"
    },
    {
     "name": "stdout",
     "output_type": "stream",
     "text": [
      "class share in test set\n"
     ]
    },
    {
     "data": {
      "text/html": [
       "<div>\n",
       "<style scoped>\n",
       "    .dataframe tbody tr th:only-of-type {\n",
       "        vertical-align: middle;\n",
       "    }\n",
       "\n",
       "    .dataframe tbody tr th {\n",
       "        vertical-align: top;\n",
       "    }\n",
       "\n",
       "    .dataframe thead th {\n",
       "        text-align: right;\n",
       "    }\n",
       "</style>\n",
       "<table border=\"1\" class=\"dataframe\">\n",
       "  <thead>\n",
       "    <tr style=\"text-align: right;\">\n",
       "      <th></th>\n",
       "      <th>share</th>\n",
       "      <th>count</th>\n",
       "    </tr>\n",
       "  </thead>\n",
       "  <tbody>\n",
       "    <tr>\n",
       "      <th>False</th>\n",
       "      <td>0.511695</td>\n",
       "      <td>1422</td>\n",
       "    </tr>\n",
       "    <tr>\n",
       "      <th>True</th>\n",
       "      <td>0.488305</td>\n",
       "      <td>1357</td>\n",
       "    </tr>\n",
       "  </tbody>\n",
       "</table>\n",
       "</div>"
      ],
      "text/plain": [
       "          share  count\n",
       "False  0.511695   1422\n",
       "True   0.488305   1357"
      ]
     },
     "metadata": {},
     "output_type": "display_data"
    },
    {
     "name": "stdout",
     "output_type": "stream",
     "text": [
      "CPU times: user 51.9 s, sys: 7.73 s, total: 59.6 s\n",
      "Wall time: 23.6 s\n"
     ]
    }
   ],
   "source": [
    "%%time\n",
    "samplers = {'ROS':RandomOverSampler, 'SMOTE': SMOTE, 'nothing': None}\n",
    "model_class = linear_model.LogisticRegression\n",
    "model_specs = {'solver':'lbfgs'}\n",
    "\n",
    "# assigning classes into groups for binarization (can use multiple classes per group)\n",
    "set0 = {'0'}  # all 0s belong to set 0\n",
    "set1 = {'2'}  # all 2s belong to set 1\n",
    "\n",
    "results = ELWMS(df, \n",
    "                set0=set0, set1=set1, \n",
    "                n_rep=10, \n",
    "                train_frac=.8, skew_frac=.02, class_to_skew=True,\n",
    "                model_class=model_class, model_specs=model_specs, samplers=samplers,\n",
    "                verbose=True)"
   ]
  },
  {
   "cell_type": "code",
   "execution_count": 69,
   "metadata": {},
   "outputs": [
    {
     "data": {
      "text/html": [
       "<div>\n",
       "<style scoped>\n",
       "    .dataframe tbody tr th:only-of-type {\n",
       "        vertical-align: middle;\n",
       "    }\n",
       "\n",
       "    .dataframe tbody tr th {\n",
       "        vertical-align: top;\n",
       "    }\n",
       "\n",
       "    .dataframe thead th {\n",
       "        text-align: right;\n",
       "    }\n",
       "</style>\n",
       "<table border=\"1\" class=\"dataframe\">\n",
       "  <thead>\n",
       "    <tr style=\"text-align: right;\">\n",
       "      <th></th>\n",
       "      <th>accuracy</th>\n",
       "      <th>sampler</th>\n",
       "      <th>1-&gt;roc auc</th>\n",
       "      <th>0-&gt;roc auc</th>\n",
       "      <th>0-&gt;precision</th>\n",
       "      <th>0-&gt;recall</th>\n",
       "      <th>0-&gt;f1-score</th>\n",
       "      <th>0-&gt;support</th>\n",
       "      <th>1-&gt;precision</th>\n",
       "      <th>1-&gt;recall</th>\n",
       "      <th>...</th>\n",
       "      <th>1-&gt;support</th>\n",
       "      <th>macro avg-&gt;precision</th>\n",
       "      <th>macro avg-&gt;recall</th>\n",
       "      <th>macro avg-&gt;f1-score</th>\n",
       "      <th>macro avg-&gt;support</th>\n",
       "      <th>weighted avg-&gt;precision</th>\n",
       "      <th>weighted avg-&gt;recall</th>\n",
       "      <th>weighted avg-&gt;f1-score</th>\n",
       "      <th>weighted avg-&gt;support</th>\n",
       "      <th>train_frac</th>\n",
       "    </tr>\n",
       "  </thead>\n",
       "  <tbody>\n",
       "    <tr>\n",
       "      <th>0</th>\n",
       "      <td>0.957899</td>\n",
       "      <td>ROS</td>\n",
       "      <td>0.996692</td>\n",
       "      <td>0.996333</td>\n",
       "      <td>0.921886</td>\n",
       "      <td>0.999270</td>\n",
       "      <td>0.959019</td>\n",
       "      <td>1370</td>\n",
       "      <td>0.999227</td>\n",
       "      <td>0.917672</td>\n",
       "      <td>...</td>\n",
       "      <td>1409</td>\n",
       "      <td>0.960556</td>\n",
       "      <td>0.958471</td>\n",
       "      <td>0.957867</td>\n",
       "      <td>2779</td>\n",
       "      <td>0.961099</td>\n",
       "      <td>0.957899</td>\n",
       "      <td>0.957851</td>\n",
       "      <td>2779</td>\n",
       "      <td>0.8</td>\n",
       "    </tr>\n",
       "    <tr>\n",
       "      <th>1</th>\n",
       "      <td>0.957179</td>\n",
       "      <td>SMOTE</td>\n",
       "      <td>0.996679</td>\n",
       "      <td>0.996307</td>\n",
       "      <td>0.920646</td>\n",
       "      <td>0.999270</td>\n",
       "      <td>0.958348</td>\n",
       "      <td>1370</td>\n",
       "      <td>0.999226</td>\n",
       "      <td>0.916253</td>\n",
       "      <td>...</td>\n",
       "      <td>1409</td>\n",
       "      <td>0.959936</td>\n",
       "      <td>0.957761</td>\n",
       "      <td>0.957145</td>\n",
       "      <td>2779</td>\n",
       "      <td>0.960487</td>\n",
       "      <td>0.957179</td>\n",
       "      <td>0.957128</td>\n",
       "      <td>2779</td>\n",
       "      <td>0.8</td>\n",
       "    </tr>\n",
       "    <tr>\n",
       "      <th>2</th>\n",
       "      <td>0.950702</td>\n",
       "      <td>nothing</td>\n",
       "      <td>0.996749</td>\n",
       "      <td>0.996231</td>\n",
       "      <td>0.909635</td>\n",
       "      <td>0.999270</td>\n",
       "      <td>0.952348</td>\n",
       "      <td>1370</td>\n",
       "      <td>0.999215</td>\n",
       "      <td>0.903478</td>\n",
       "      <td>...</td>\n",
       "      <td>1409</td>\n",
       "      <td>0.954425</td>\n",
       "      <td>0.951374</td>\n",
       "      <td>0.950643</td>\n",
       "      <td>2779</td>\n",
       "      <td>0.955053</td>\n",
       "      <td>0.950702</td>\n",
       "      <td>0.950619</td>\n",
       "      <td>2779</td>\n",
       "      <td>0.8</td>\n",
       "    </tr>\n",
       "    <tr>\n",
       "      <th>3</th>\n",
       "      <td>0.963656</td>\n",
       "      <td>ROS</td>\n",
       "      <td>0.998105</td>\n",
       "      <td>0.997996</td>\n",
       "      <td>0.933950</td>\n",
       "      <td>0.999293</td>\n",
       "      <td>0.965517</td>\n",
       "      <td>1415</td>\n",
       "      <td>0.999209</td>\n",
       "      <td>0.926686</td>\n",
       "      <td>...</td>\n",
       "      <td>1364</td>\n",
       "      <td>0.966580</td>\n",
       "      <td>0.962990</td>\n",
       "      <td>0.963550</td>\n",
       "      <td>2779</td>\n",
       "      <td>0.965981</td>\n",
       "      <td>0.963656</td>\n",
       "      <td>0.963586</td>\n",
       "      <td>2779</td>\n",
       "      <td>0.8</td>\n",
       "    </tr>\n",
       "    <tr>\n",
       "      <th>4</th>\n",
       "      <td>0.964736</td>\n",
       "      <td>SMOTE</td>\n",
       "      <td>0.998105</td>\n",
       "      <td>0.998007</td>\n",
       "      <td>0.935804</td>\n",
       "      <td>0.999293</td>\n",
       "      <td>0.966507</td>\n",
       "      <td>1415</td>\n",
       "      <td>0.999211</td>\n",
       "      <td>0.928886</td>\n",
       "      <td>...</td>\n",
       "      <td>1364</td>\n",
       "      <td>0.967508</td>\n",
       "      <td>0.964089</td>\n",
       "      <td>0.964637</td>\n",
       "      <td>2779</td>\n",
       "      <td>0.966926</td>\n",
       "      <td>0.964736</td>\n",
       "      <td>0.964671</td>\n",
       "      <td>2779</td>\n",
       "      <td>0.8</td>\n",
       "    </tr>\n",
       "  </tbody>\n",
       "</table>\n",
       "<p>5 rows × 21 columns</p>\n",
       "</div>"
      ],
      "text/plain": [
       "   accuracy  sampler  1->roc auc  0->roc auc  0->precision  0->recall  \\\n",
       "0  0.957899      ROS    0.996692    0.996333      0.921886   0.999270   \n",
       "1  0.957179    SMOTE    0.996679    0.996307      0.920646   0.999270   \n",
       "2  0.950702  nothing    0.996749    0.996231      0.909635   0.999270   \n",
       "3  0.963656      ROS    0.998105    0.997996      0.933950   0.999293   \n",
       "4  0.964736    SMOTE    0.998105    0.998007      0.935804   0.999293   \n",
       "\n",
       "   0->f1-score  0->support  1->precision  1->recall  ...  1->support  \\\n",
       "0     0.959019        1370      0.999227   0.917672  ...        1409   \n",
       "1     0.958348        1370      0.999226   0.916253  ...        1409   \n",
       "2     0.952348        1370      0.999215   0.903478  ...        1409   \n",
       "3     0.965517        1415      0.999209   0.926686  ...        1364   \n",
       "4     0.966507        1415      0.999211   0.928886  ...        1364   \n",
       "\n",
       "   macro avg->precision  macro avg->recall  macro avg->f1-score  \\\n",
       "0              0.960556           0.958471             0.957867   \n",
       "1              0.959936           0.957761             0.957145   \n",
       "2              0.954425           0.951374             0.950643   \n",
       "3              0.966580           0.962990             0.963550   \n",
       "4              0.967508           0.964089             0.964637   \n",
       "\n",
       "   macro avg->support  weighted avg->precision  weighted avg->recall  \\\n",
       "0                2779                 0.961099              0.957899   \n",
       "1                2779                 0.960487              0.957179   \n",
       "2                2779                 0.955053              0.950702   \n",
       "3                2779                 0.965981              0.963656   \n",
       "4                2779                 0.966926              0.964736   \n",
       "\n",
       "   weighted avg->f1-score  weighted avg->support  train_frac  \n",
       "0                0.957851                   2779         0.8  \n",
       "1                0.957128                   2779         0.8  \n",
       "2                0.950619                   2779         0.8  \n",
       "3                0.963586                   2779         0.8  \n",
       "4                0.964671                   2779         0.8  \n",
       "\n",
       "[5 rows x 21 columns]"
      ]
     },
     "execution_count": 69,
     "metadata": {},
     "output_type": "execute_result"
    }
   ],
   "source": [
    "results.head()"
   ]
  },
  {
   "cell_type": "code",
   "execution_count": 70,
   "metadata": {},
   "outputs": [
    {
     "data": {
      "image/png": "[encoded data removed]",
      "text/plain": [
       "<Figure size 864x432 with 1 Axes>"
      ]
     },
     "metadata": {
      "needs_background": "light"
     },
     "output_type": "display_data"
    }
   ],
   "source": [
    "fig, ax = plt.subplots(figsize=(12,6))\n",
    "sns.boxplot(data=results, x='sampler', y='accuracy', ax=ax)\n",
    "plt.show()"
   ]
  },
  {
   "cell_type": "markdown",
   "metadata": {},
   "source": [
    "To more clearly see the difference of using samplers, the scores are subtracted by the median of the values obtained for the case without a sampler, labelled 'nothing'."
   ]
  },
  {
   "cell_type": "code",
   "execution_count": 71,
   "metadata": {},
   "outputs": [],
   "source": [
    "def get_score_difference_to_reference_sampler(df:pd.DataFrame, agg_func_for_reference:Callable=np.median,\n",
    "                                      reference_sampler:str='nothing'):\n",
    "    'Expects the output of `ELWMS` as input'\n",
    "    delta = df.copy()\n",
    "    cols = [c for c in delta.columns if c != 'sampler' and c!= 'train_frac']\n",
    "    ref = delta.loc[delta['sampler']=='nothing', cols].agg(agg_func_for_reference, axis=0)\n",
    "    delta.loc[:, cols] = delta.loc[:, cols] - ref\n",
    "    return delta"
   ]
  },
  {
   "cell_type": "code",
   "execution_count": 72,
   "metadata": {},
   "outputs": [
    {
     "data": {
      "text/html": [
       "<div>\n",
       "<style scoped>\n",
       "    .dataframe tbody tr th:only-of-type {\n",
       "        vertical-align: middle;\n",
       "    }\n",
       "\n",
       "    .dataframe tbody tr th {\n",
       "        vertical-align: top;\n",
       "    }\n",
       "\n",
       "    .dataframe thead th {\n",
       "        text-align: right;\n",
       "    }\n",
       "</style>\n",
       "<table border=\"1\" class=\"dataframe\">\n",
       "  <thead>\n",
       "    <tr style=\"text-align: right;\">\n",
       "      <th></th>\n",
       "      <th>accuracy</th>\n",
       "      <th>sampler</th>\n",
       "      <th>1-&gt;roc auc</th>\n",
       "      <th>0-&gt;roc auc</th>\n",
       "      <th>0-&gt;precision</th>\n",
       "      <th>0-&gt;recall</th>\n",
       "      <th>0-&gt;f1-score</th>\n",
       "      <th>0-&gt;support</th>\n",
       "      <th>1-&gt;precision</th>\n",
       "      <th>1-&gt;recall</th>\n",
       "      <th>...</th>\n",
       "      <th>1-&gt;support</th>\n",
       "      <th>macro avg-&gt;precision</th>\n",
       "      <th>macro avg-&gt;recall</th>\n",
       "      <th>macro avg-&gt;f1-score</th>\n",
       "      <th>macro avg-&gt;support</th>\n",
       "      <th>weighted avg-&gt;precision</th>\n",
       "      <th>weighted avg-&gt;recall</th>\n",
       "      <th>weighted avg-&gt;f1-score</th>\n",
       "      <th>weighted avg-&gt;support</th>\n",
       "      <th>train_frac</th>\n",
       "    </tr>\n",
       "  </thead>\n",
       "  <tbody>\n",
       "    <tr>\n",
       "      <th>0</th>\n",
       "      <td>0.005398</td>\n",
       "      <td>ROS</td>\n",
       "      <td>-0.000593</td>\n",
       "      <td>-0.000659</td>\n",
       "      <td>0.009532</td>\n",
       "      <td>-0.000378</td>\n",
       "      <td>0.004852</td>\n",
       "      <td>-13.5</td>\n",
       "      <td>-0.000382</td>\n",
       "      <td>0.011621</td>\n",
       "      <td>...</td>\n",
       "      <td>13.5</td>\n",
       "      <td>0.004380</td>\n",
       "      <td>0.005445</td>\n",
       "      <td>0.005429</td>\n",
       "      <td>0.0</td>\n",
       "      <td>0.004433</td>\n",
       "      <td>0.005398</td>\n",
       "      <td>0.005432</td>\n",
       "      <td>0.0</td>\n",
       "      <td>0.8</td>\n",
       "    </tr>\n",
       "    <tr>\n",
       "      <th>1</th>\n",
       "      <td>0.004678</td>\n",
       "      <td>SMOTE</td>\n",
       "      <td>-0.000606</td>\n",
       "      <td>-0.000685</td>\n",
       "      <td>0.008293</td>\n",
       "      <td>-0.000378</td>\n",
       "      <td>0.004181</td>\n",
       "      <td>-13.5</td>\n",
       "      <td>-0.000384</td>\n",
       "      <td>0.010201</td>\n",
       "      <td>...</td>\n",
       "      <td>13.5</td>\n",
       "      <td>0.003759</td>\n",
       "      <td>0.004736</td>\n",
       "      <td>0.004707</td>\n",
       "      <td>0.0</td>\n",
       "      <td>0.003821</td>\n",
       "      <td>0.004678</td>\n",
       "      <td>0.004709</td>\n",
       "      <td>0.0</td>\n",
       "      <td>0.8</td>\n",
       "    </tr>\n",
       "    <tr>\n",
       "      <th>2</th>\n",
       "      <td>-0.001799</td>\n",
       "      <td>nothing</td>\n",
       "      <td>-0.000536</td>\n",
       "      <td>-0.000761</td>\n",
       "      <td>-0.002719</td>\n",
       "      <td>-0.000378</td>\n",
       "      <td>-0.001819</td>\n",
       "      <td>-13.5</td>\n",
       "      <td>-0.000395</td>\n",
       "      <td>-0.002574</td>\n",
       "      <td>...</td>\n",
       "      <td>13.5</td>\n",
       "      <td>-0.001752</td>\n",
       "      <td>-0.001652</td>\n",
       "      <td>-0.001795</td>\n",
       "      <td>0.0</td>\n",
       "      <td>-0.001613</td>\n",
       "      <td>-0.001799</td>\n",
       "      <td>-0.001800</td>\n",
       "      <td>0.0</td>\n",
       "      <td>0.8</td>\n",
       "    </tr>\n",
       "    <tr>\n",
       "      <th>3</th>\n",
       "      <td>0.011155</td>\n",
       "      <td>ROS</td>\n",
       "      <td>0.000820</td>\n",
       "      <td>0.001005</td>\n",
       "      <td>0.021597</td>\n",
       "      <td>-0.000355</td>\n",
       "      <td>0.011350</td>\n",
       "      <td>31.5</td>\n",
       "      <td>-0.000400</td>\n",
       "      <td>0.020635</td>\n",
       "      <td>...</td>\n",
       "      <td>-31.5</td>\n",
       "      <td>0.010403</td>\n",
       "      <td>0.009964</td>\n",
       "      <td>0.011112</td>\n",
       "      <td>0.0</td>\n",
       "      <td>0.009315</td>\n",
       "      <td>0.011155</td>\n",
       "      <td>0.011167</td>\n",
       "      <td>0.0</td>\n",
       "      <td>0.8</td>\n",
       "    </tr>\n",
       "    <tr>\n",
       "      <th>4</th>\n",
       "      <td>0.012235</td>\n",
       "      <td>SMOTE</td>\n",
       "      <td>0.000820</td>\n",
       "      <td>0.001015</td>\n",
       "      <td>0.023451</td>\n",
       "      <td>-0.000355</td>\n",
       "      <td>0.012340</td>\n",
       "      <td>31.5</td>\n",
       "      <td>-0.000398</td>\n",
       "      <td>0.022834</td>\n",
       "      <td>...</td>\n",
       "      <td>-31.5</td>\n",
       "      <td>0.011331</td>\n",
       "      <td>0.011064</td>\n",
       "      <td>0.012199</td>\n",
       "      <td>0.0</td>\n",
       "      <td>0.010260</td>\n",
       "      <td>0.012235</td>\n",
       "      <td>0.012252</td>\n",
       "      <td>0.0</td>\n",
       "      <td>0.8</td>\n",
       "    </tr>\n",
       "  </tbody>\n",
       "</table>\n",
       "<p>5 rows × 21 columns</p>\n",
       "</div>"
      ],
      "text/plain": [
       "   accuracy  sampler  1->roc auc  0->roc auc  0->precision  0->recall  \\\n",
       "0  0.005398      ROS   -0.000593   -0.000659      0.009532  -0.000378   \n",
       "1  0.004678    SMOTE   -0.000606   -0.000685      0.008293  -0.000378   \n",
       "2 -0.001799  nothing   -0.000536   -0.000761     -0.002719  -0.000378   \n",
       "3  0.011155      ROS    0.000820    0.001005      0.021597  -0.000355   \n",
       "4  0.012235    SMOTE    0.000820    0.001015      0.023451  -0.000355   \n",
       "\n",
       "   0->f1-score  0->support  1->precision  1->recall  ...  1->support  \\\n",
       "0     0.004852       -13.5     -0.000382   0.011621  ...        13.5   \n",
       "1     0.004181       -13.5     -0.000384   0.010201  ...        13.5   \n",
       "2    -0.001819       -13.5     -0.000395  -0.002574  ...        13.5   \n",
       "3     0.011350        31.5     -0.000400   0.020635  ...       -31.5   \n",
       "4     0.012340        31.5     -0.000398   0.022834  ...       -31.5   \n",
       "\n",
       "   macro avg->precision  macro avg->recall  macro avg->f1-score  \\\n",
       "0              0.004380           0.005445             0.005429   \n",
       "1              0.003759           0.004736             0.004707   \n",
       "2             -0.001752          -0.001652            -0.001795   \n",
       "3              0.010403           0.009964             0.011112   \n",
       "4              0.011331           0.011064             0.012199   \n",
       "\n",
       "   macro avg->support  weighted avg->precision  weighted avg->recall  \\\n",
       "0                 0.0                 0.004433              0.005398   \n",
       "1                 0.0                 0.003821              0.004678   \n",
       "2                 0.0                -0.001613             -0.001799   \n",
       "3                 0.0                 0.009315              0.011155   \n",
       "4                 0.0                 0.010260              0.012235   \n",
       "\n",
       "   weighted avg->f1-score  weighted avg->support  train_frac  \n",
       "0                0.005432                    0.0         0.8  \n",
       "1                0.004709                    0.0         0.8  \n",
       "2               -0.001800                    0.0         0.8  \n",
       "3                0.011167                    0.0         0.8  \n",
       "4                0.012252                    0.0         0.8  \n",
       "\n",
       "[5 rows x 21 columns]"
      ]
     },
     "execution_count": 72,
     "metadata": {},
     "output_type": "execute_result"
    }
   ],
   "source": [
    "results_delta = get_score_difference_to_reference_sampler(results,\n",
    "                                                          agg_func_for_reference=np.median)\n",
    "results_delta.head()"
   ]
  },
  {
   "cell_type": "code",
   "execution_count": 73,
   "metadata": {},
   "outputs": [
    {
     "data": {
      "image/png": "[encoded data removed]",
      "text/plain": [
       "<Figure size 864x432 with 1 Axes>"
      ]
     },
     "metadata": {
      "needs_background": "light"
     },
     "output_type": "display_data"
    }
   ],
   "source": [
    "fig, ax = plt.subplots(figsize=(12,6))\n",
    "sns.boxplot(data=results_delta, x='sampler', y='accuracy', ax=ax)\n",
    "plt.show()"
   ]
  },
  {
   "cell_type": "markdown",
   "metadata": {},
   "source": [
    "### Scanning a range of `train_frac` values"
   ]
  },
  {
   "cell_type": "code",
   "execution_count": 87,
   "metadata": {},
   "outputs": [],
   "source": [
    "samplers = {'ROS':RandomOverSampler, 'SMOTE': SMOTE, 'nothing': None}\n",
    "# model_class = linear_model.LogisticRegression\n",
    "# model_specs = {'solver':'lbfgs'}\n",
    "model_class = ensemble.RandomForestClassifier\n",
    "model_specs = dict(n_estimators=100, max_features='sqrt')\n",
    "\n",
    "set0 = {'3'}\n",
    "set1 = {'5'}\n",
    "\n",
    "n_rep = 20\n",
    "\n",
    "# The label True will make up about 2% of the training set's labels\n",
    "skew_frac = .02\n",
    "class_to_skew = True\n",
    "\n",
    "settings = dict(samplers=samplers, model_class=model_class, model_specs=model_specs, set0=set0, set1=set1,\n",
    "                n_rep=n_rep, skew_frac=skew_frac, class_to_skew=class_to_skew)\n",
    "\n",
    "train_frac_range = [.8, .6, .4, .2, .1]"
   ]
  },
  {
   "cell_type": "code",
   "execution_count": 88,
   "metadata": {
    "scrolled": true
   },
   "outputs": [
    {
     "name": "stderr",
     "output_type": "stream",
     "text": [
      "100%|██████████| 5/5 [09:08<00:00, 109.66s/it]"
     ]
    },
    {
     "name": "stdout",
     "output_type": "stream",
     "text": [
      "CPU times: user 7min 58s, sys: 1min 7s, total: 9min 5s\n",
      "Wall time: 9min 8s\n"
     ]
    },
    {
     "name": "stderr",
     "output_type": "stream",
     "text": [
      "\n"
     ]
    }
   ],
   "source": [
    "%%time\n",
    "scan_results = []\n",
    "scan_results_delta = []\n",
    "\n",
    "for train_frac in tqdm.tqdm(train_frac_range, total=len(train_frac_range)):\n",
    "    _results = ELWMS(df, train_frac=train_frac,\n",
    "                     **settings)\n",
    "    scan_results.append(_results)\n",
    "    \n",
    "    # for clearer visualisation of the effect of samplers vs no sampling\n",
    "    _results_delta = get_score_difference_to_reference_sampler(_results,\n",
    "                                                               agg_func_for_reference=np.median)\n",
    "    \n",
    "    scan_results_delta.append(_results_delta)\n",
    "        \n",
    "scan_results = pd.concat(scan_results, ignore_index=True)\n",
    "scan_results_delta = pd.concat(scan_results_delta, ignore_index=True)"
   ]
  },
  {
   "cell_type": "markdown",
   "metadata": {},
   "source": [
    "#### Plotting score vs sampler and training / test set size"
   ]
  },
  {
   "cell_type": "markdown",
   "metadata": {},
   "source": [
    "Grouping by sampler"
   ]
  },
  {
   "cell_type": "code",
   "execution_count": 89,
   "metadata": {
    "scrolled": true
   },
   "outputs": [
    {
     "data": {
      "image/png": "[encoded data removed]",
      "text/plain": [
       "<Figure size 864x432 with 1 Axes>"
      ]
     },
     "metadata": {
      "needs_background": "light"
     },
     "output_type": "display_data"
    }
   ],
   "source": [
    "fig, ax = plt.subplots(figsize=(12,6))\n",
    "ax = sns.boxplot(x='sampler', y='accuracy', hue='train_frac', data=scan_results,\n",
    "                 ax=ax, palette='viridis')\n",
    "ax.set(title='Sample size effect for each sampler type')\n",
    "plt.show()"
   ]
  },
  {
   "cell_type": "markdown",
   "metadata": {},
   "source": [
    "Grouping by `train_frac`"
   ]
  },
  {
   "cell_type": "code",
   "execution_count": 90,
   "metadata": {
    "scrolled": true
   },
   "outputs": [
    {
     "data": {
      "image/png": "[encoded data removed]",
      "text/plain": [
       "<Figure size 864x432 with 1 Axes>"
      ]
     },
     "metadata": {
      "needs_background": "light"
     },
     "output_type": "display_data"
    }
   ],
   "source": [
    "fig, ax = plt.subplots(figsize=(12,6))\n",
    "ax = sns.boxplot(x='train_frac', y='accuracy', hue='sampler', data=scan_results,\n",
    "                 ax=ax)\n",
    "ax.set(title='Sampler type effect for each sample size')\n",
    "plt.show()"
   ]
  },
  {
   "cell_type": "markdown",
   "metadata": {},
   "source": [
    "#### Plotting score DIFFERENCE vs sampler and training / test set size"
   ]
  },
  {
   "cell_type": "markdown",
   "metadata": {},
   "source": [
    "To more clearly see the difference of using samplers, the scores are subtracted by the median of the values obtained for the case without a sampler, labelled 'nothing'."
   ]
  },
  {
   "cell_type": "code",
   "execution_count": 91,
   "metadata": {},
   "outputs": [],
   "source": [
    "plot_mask = scan_results_delta['sampler']!='nothing'"
   ]
  },
  {
   "cell_type": "markdown",
   "metadata": {},
   "source": [
    "**Accuracy** - Grouping by sampler"
   ]
  },
  {
   "cell_type": "code",
   "execution_count": 92,
   "metadata": {
    "scrolled": false
   },
   "outputs": [
    {
     "data": {
      "image/png": "[encoded data removed]",
      "text/plain": [
       "<Figure size 864x432 with 1 Axes>"
      ]
     },
     "metadata": {
      "needs_background": "light"
     },
     "output_type": "display_data"
    }
   ],
   "source": [
    "fig, ax = plt.subplots(figsize=(12,6))\n",
    "ax = sns.boxplot(x='sampler', y='accuracy', hue='train_frac', \n",
    "                 data=scan_results_delta.loc[plot_mask,:],\n",
    "                 ax=ax, palette='viridis')\n",
    "xlim = ax.get_xlim()\n",
    "ax.plot(xlim, [0,0], '-g', lw=5)\n",
    "ax.set(title='Sample size effect for each sampler type', xlim=xlim,\n",
    "       ylabel='Δ accuracy')\n",
    "plt.show()"
   ]
  },
  {
   "cell_type": "markdown",
   "metadata": {},
   "source": [
    "**Accuracy** - Grouping by `train_frac`"
   ]
  },
  {
   "cell_type": "code",
   "execution_count": 93,
   "metadata": {
    "scrolled": true
   },
   "outputs": [
    {
     "data": {
      "image/png": "[encoded data removed]",
      "text/plain": [
       "<Figure size 864x432 with 1 Axes>"
      ]
     },
     "metadata": {
      "needs_background": "light"
     },
     "output_type": "display_data"
    }
   ],
   "source": [
    "fig, ax = plt.subplots(figsize=(12,6))\n",
    "ax = sns.boxplot(x='train_frac', y='accuracy', hue='sampler', \n",
    "                 data=scan_results_delta.loc[plot_mask,:],\n",
    "                 ax=ax)\n",
    "ax.set(title='Sampler type effect for each sample size',\n",
    "       ylabel='Δ accuracy')\n",
    "plt.show()"
   ]
  },
  {
   "cell_type": "markdown",
   "metadata": {},
   "source": [
    "**F1-score (for 1)** Grouping by sampler"
   ]
  },
  {
   "cell_type": "code",
   "execution_count": 94,
   "metadata": {
    "scrolled": true
   },
   "outputs": [
    {
     "data": {
      "image/png": "[encoded data removed]",
      "text/plain": [
       "<Figure size 864x432 with 1 Axes>"
      ]
     },
     "metadata": {
      "needs_background": "light"
     },
     "output_type": "display_data"
    }
   ],
   "source": [
    "fig, ax = plt.subplots(figsize=(12,6))\n",
    "ax = sns.boxplot(x='sampler', y='1->f1-score', hue='train_frac', \n",
    "                 data=scan_results_delta.loc[plot_mask],\n",
    "                 ax=ax, palette='viridis')\n",
    "xlim = ax.get_xlim()\n",
    "ax.plot(xlim, [0,0], '-g', lw=5)\n",
    "ax.set(title='Sample size effect for each sampler type', xlim=xlim,\n",
    "       ylabel='Δ f1-score')\n",
    "plt.show()"
   ]
  },
  {
   "cell_type": "markdown",
   "metadata": {},
   "source": [
    "**F1-score (for 1)** Grouping by `train_frac`"
   ]
  },
  {
   "cell_type": "code",
   "execution_count": 95,
   "metadata": {
    "scrolled": false
   },
   "outputs": [
    {
     "data": {
      "image/png": "[encoded data removed]",
      "text/plain": [
       "<Figure size 864x432 with 1 Axes>"
      ]
     },
     "metadata": {
      "needs_background": "light"
     },
     "output_type": "display_data"
    }
   ],
   "source": [
    "fig, ax = plt.subplots(figsize=(12,6))\n",
    "ax = sns.boxplot(x='train_frac', y='1->f1-score', hue='sampler', \n",
    "                 data=scan_results_delta.loc[plot_mask],\n",
    "                 ax=ax)\n",
    "ax.set(title='Sampler type effect for each sample size',\n",
    "       ylabel='Δ f1-score')\n",
    "plt.show()"
   ]
  },
  {
   "cell_type": "markdown",
   "metadata": {},
   "source": [
    "**ROC AUC-score (for 1)** Grouping by sampler"
   ]
  },
  {
   "cell_type": "code",
   "execution_count": 96,
   "metadata": {
    "scrolled": false
   },
   "outputs": [
    {
     "data": {
      "image/png": "[encoded data removed]",
      "text/plain": [
       "<Figure size 864x432 with 1 Axes>"
      ]
     },
     "metadata": {
      "needs_background": "light"
     },
     "output_type": "display_data"
    }
   ],
   "source": [
    "fig, ax = plt.subplots(figsize=(12,6))\n",
    "ax = sns.boxplot(x='sampler', y='1->roc auc', hue='train_frac', \n",
    "                 data=scan_results_delta.loc[plot_mask,:],\n",
    "                 ax=ax, palette='viridis')\n",
    "xlim = ax.get_xlim()\n",
    "ax.plot(xlim, [0,0], '-g', lw=5)\n",
    "ax.set(title='Sample size effect for each sampler type', xlim=xlim,\n",
    "       ylabel='Δ ROC AUC')\n",
    "plt.show()"
   ]
  },
  {
   "cell_type": "markdown",
   "metadata": {},
   "source": [
    "## Summary"
   ]
  },
  {
   "cell_type": "markdown",
   "metadata": {},
   "source": [
    "It seems the samplers `RandomOverSampler` and `SMOTE` behave similar, using their default settings, in showing increasingly larger gains over no sampler ('nothing') the smaller the training data set is."
   ]
  }
 ],
 "metadata": {
  "kernelspec": {
   "display_name": "Python [conda env:py37_imbalanced]",
   "language": "python",
   "name": "conda-env-py37_imbalanced-py"
  },
  "language_info": {
   "codemirror_mode": {
    "name": "ipython",
    "version": 3
   },
   "file_extension": ".py",
   "mimetype": "text/x-python",
   "name": "python",
   "nbconvert_exporter": "python",
   "pygments_lexer": "ipython3",
   "version": "3.7.7"
  },
  "toc": {
   "base_numbering": 1,
   "nav_menu": {
    "height": "248px",
    "width": "354px"
   },
   "number_sections": true,
   "sideBar": true,
   "skip_h1_title": false,
   "title_cell": "Table of Contents",
   "title_sidebar": "Contents",
   "toc_cell": false,
   "toc_position": {},
   "toc_section_display": true,
   "toc_window_display": false
  }
 },
 "nbformat": 4,
 "nbformat_minor": 4
}
