{
 "cells": [
  {
   "cell_type": "markdown",
   "metadata": {},
   "source": [
    "# Sampling on binarized MNIST"
   ]
  },
  {
   "cell_type": "markdown",
   "metadata": {},
   "source": [
    "**Note:**\n",
    "\n",
    "sklearn == 0.21.3 required for imblearn 0.5.0 to work. It's easiest to create a new conda env from scratch with sklearn and imblearn."
   ]
  },
  {
   "cell_type": "code",
   "execution_count": 1,
   "metadata": {},
   "outputs": [],
   "source": [
    "from sklearn.datasets import fetch_openml\n",
    "import matplotlib.pyplot as plt\n",
    "import numpy as np\n",
    "from typing import Callable\n",
    "from sklearn import ensemble, metrics, base, linear_model\n",
    "import pandas as pd\n",
    "import seaborn as sns\n",
    "import tqdm\n",
    "from imblearn.over_sampling import SMOTE, RandomOverSampler, ADASYN"
   ]
  },
  {
   "cell_type": "code",
   "execution_count": 2,
   "metadata": {},
   "outputs": [],
   "source": [
    "plt.style.use('bmh')"
   ]
  },
  {
   "cell_type": "code",
   "execution_count": 3,
   "metadata": {
    "scrolled": true
   },
   "outputs": [
    {
     "name": "stdout",
     "output_type": "stream",
     "text": [
      "CPU times: user 12 s, sys: 953 ms, total: 12.9 s\n",
      "Wall time: 13 s\n"
     ]
    }
   ],
   "source": [
    "%%time\n",
    "X, y = fetch_openml('mnist_784', version=1, return_X_y=True)"
   ]
  },
  {
   "cell_type": "code",
   "execution_count": 4,
   "metadata": {},
   "outputs": [
    {
     "data": {
      "text/plain": [
       "((70000, 784),\n",
       " array([[0., 0., 0., 0., 0.],\n",
       "        [0., 0., 0., 0., 0.],\n",
       "        [0., 0., 0., 0., 0.],\n",
       "        [0., 0., 0., 0., 0.],\n",
       "        [0., 0., 0., 0., 0.]]),\n",
       " array(['5', '0', '4', '1', '9'], dtype=object))"
      ]
     },
     "execution_count": 4,
     "metadata": {},
     "output_type": "execute_result"
    }
   ],
   "source": [
    "X.shape, X[:5,:5], y[:5]"
   ]
  },
  {
   "cell_type": "code",
   "execution_count": 5,
   "metadata": {
    "scrolled": true
   },
   "outputs": [],
   "source": [
    "X = pd.DataFrame(X).add_prefix('pixel')\n",
    "y = pd.DataFrame({'class':y})\n",
    "y = y['class'].astype('category')"
   ]
  },
  {
   "cell_type": "code",
   "execution_count": 6,
   "metadata": {},
   "outputs": [
    {
     "data": {
      "text/html": [
       "<div>\n",
       "<style scoped>\n",
       "    .dataframe tbody tr th:only-of-type {\n",
       "        vertical-align: middle;\n",
       "    }\n",
       "\n",
       "    .dataframe tbody tr th {\n",
       "        vertical-align: top;\n",
       "    }\n",
       "\n",
       "    .dataframe thead th {\n",
       "        text-align: right;\n",
       "    }\n",
       "</style>\n",
       "<table border=\"1\" class=\"dataframe\">\n",
       "  <thead>\n",
       "    <tr style=\"text-align: right;\">\n",
       "      <th></th>\n",
       "      <th>pixel0</th>\n",
       "      <th>pixel1</th>\n",
       "      <th>pixel2</th>\n",
       "      <th>pixel3</th>\n",
       "      <th>pixel4</th>\n",
       "      <th>pixel5</th>\n",
       "      <th>pixel6</th>\n",
       "      <th>pixel7</th>\n",
       "      <th>pixel8</th>\n",
       "      <th>pixel9</th>\n",
       "      <th>...</th>\n",
       "      <th>pixel774</th>\n",
       "      <th>pixel775</th>\n",
       "      <th>pixel776</th>\n",
       "      <th>pixel777</th>\n",
       "      <th>pixel778</th>\n",
       "      <th>pixel779</th>\n",
       "      <th>pixel780</th>\n",
       "      <th>pixel781</th>\n",
       "      <th>pixel782</th>\n",
       "      <th>pixel783</th>\n",
       "    </tr>\n",
       "  </thead>\n",
       "  <tbody>\n",
       "    <tr>\n",
       "      <th>0</th>\n",
       "      <td>0.0</td>\n",
       "      <td>0.0</td>\n",
       "      <td>0.0</td>\n",
       "      <td>0.0</td>\n",
       "      <td>0.0</td>\n",
       "      <td>0.0</td>\n",
       "      <td>0.0</td>\n",
       "      <td>0.0</td>\n",
       "      <td>0.0</td>\n",
       "      <td>0.0</td>\n",
       "      <td>...</td>\n",
       "      <td>0.0</td>\n",
       "      <td>0.0</td>\n",
       "      <td>0.0</td>\n",
       "      <td>0.0</td>\n",
       "      <td>0.0</td>\n",
       "      <td>0.0</td>\n",
       "      <td>0.0</td>\n",
       "      <td>0.0</td>\n",
       "      <td>0.0</td>\n",
       "      <td>0.0</td>\n",
       "    </tr>\n",
       "    <tr>\n",
       "      <th>1</th>\n",
       "      <td>0.0</td>\n",
       "      <td>0.0</td>\n",
       "      <td>0.0</td>\n",
       "      <td>0.0</td>\n",
       "      <td>0.0</td>\n",
       "      <td>0.0</td>\n",
       "      <td>0.0</td>\n",
       "      <td>0.0</td>\n",
       "      <td>0.0</td>\n",
       "      <td>0.0</td>\n",
       "      <td>...</td>\n",
       "      <td>0.0</td>\n",
       "      <td>0.0</td>\n",
       "      <td>0.0</td>\n",
       "      <td>0.0</td>\n",
       "      <td>0.0</td>\n",
       "      <td>0.0</td>\n",
       "      <td>0.0</td>\n",
       "      <td>0.0</td>\n",
       "      <td>0.0</td>\n",
       "      <td>0.0</td>\n",
       "    </tr>\n",
       "    <tr>\n",
       "      <th>2</th>\n",
       "      <td>0.0</td>\n",
       "      <td>0.0</td>\n",
       "      <td>0.0</td>\n",
       "      <td>0.0</td>\n",
       "      <td>0.0</td>\n",
       "      <td>0.0</td>\n",
       "      <td>0.0</td>\n",
       "      <td>0.0</td>\n",
       "      <td>0.0</td>\n",
       "      <td>0.0</td>\n",
       "      <td>...</td>\n",
       "      <td>0.0</td>\n",
       "      <td>0.0</td>\n",
       "      <td>0.0</td>\n",
       "      <td>0.0</td>\n",
       "      <td>0.0</td>\n",
       "      <td>0.0</td>\n",
       "      <td>0.0</td>\n",
       "      <td>0.0</td>\n",
       "      <td>0.0</td>\n",
       "      <td>0.0</td>\n",
       "    </tr>\n",
       "    <tr>\n",
       "      <th>3</th>\n",
       "      <td>0.0</td>\n",
       "      <td>0.0</td>\n",
       "      <td>0.0</td>\n",
       "      <td>0.0</td>\n",
       "      <td>0.0</td>\n",
       "      <td>0.0</td>\n",
       "      <td>0.0</td>\n",
       "      <td>0.0</td>\n",
       "      <td>0.0</td>\n",
       "      <td>0.0</td>\n",
       "      <td>...</td>\n",
       "      <td>0.0</td>\n",
       "      <td>0.0</td>\n",
       "      <td>0.0</td>\n",
       "      <td>0.0</td>\n",
       "      <td>0.0</td>\n",
       "      <td>0.0</td>\n",
       "      <td>0.0</td>\n",
       "      <td>0.0</td>\n",
       "      <td>0.0</td>\n",
       "      <td>0.0</td>\n",
       "    </tr>\n",
       "    <tr>\n",
       "      <th>4</th>\n",
       "      <td>0.0</td>\n",
       "      <td>0.0</td>\n",
       "      <td>0.0</td>\n",
       "      <td>0.0</td>\n",
       "      <td>0.0</td>\n",
       "      <td>0.0</td>\n",
       "      <td>0.0</td>\n",
       "      <td>0.0</td>\n",
       "      <td>0.0</td>\n",
       "      <td>0.0</td>\n",
       "      <td>...</td>\n",
       "      <td>0.0</td>\n",
       "      <td>0.0</td>\n",
       "      <td>0.0</td>\n",
       "      <td>0.0</td>\n",
       "      <td>0.0</td>\n",
       "      <td>0.0</td>\n",
       "      <td>0.0</td>\n",
       "      <td>0.0</td>\n",
       "      <td>0.0</td>\n",
       "      <td>0.0</td>\n",
       "    </tr>\n",
       "  </tbody>\n",
       "</table>\n",
       "<p>5 rows × 784 columns</p>\n",
       "</div>"
      ],
      "text/plain": [
       "   pixel0  pixel1  pixel2  pixel3  pixel4  pixel5  pixel6  pixel7  pixel8  \\\n",
       "0     0.0     0.0     0.0     0.0     0.0     0.0     0.0     0.0     0.0   \n",
       "1     0.0     0.0     0.0     0.0     0.0     0.0     0.0     0.0     0.0   \n",
       "2     0.0     0.0     0.0     0.0     0.0     0.0     0.0     0.0     0.0   \n",
       "3     0.0     0.0     0.0     0.0     0.0     0.0     0.0     0.0     0.0   \n",
       "4     0.0     0.0     0.0     0.0     0.0     0.0     0.0     0.0     0.0   \n",
       "\n",
       "   pixel9  ...  pixel774  pixel775  pixel776  pixel777  pixel778  pixel779  \\\n",
       "0     0.0  ...       0.0       0.0       0.0       0.0       0.0       0.0   \n",
       "1     0.0  ...       0.0       0.0       0.0       0.0       0.0       0.0   \n",
       "2     0.0  ...       0.0       0.0       0.0       0.0       0.0       0.0   \n",
       "3     0.0  ...       0.0       0.0       0.0       0.0       0.0       0.0   \n",
       "4     0.0  ...       0.0       0.0       0.0       0.0       0.0       0.0   \n",
       "\n",
       "   pixel780  pixel781  pixel782  pixel783  \n",
       "0       0.0       0.0       0.0       0.0  \n",
       "1       0.0       0.0       0.0       0.0  \n",
       "2       0.0       0.0       0.0       0.0  \n",
       "3       0.0       0.0       0.0       0.0  \n",
       "4       0.0       0.0       0.0       0.0  \n",
       "\n",
       "[5 rows x 784 columns]"
      ]
     },
     "metadata": {},
     "output_type": "display_data"
    },
    {
     "data": {
      "text/plain": [
       "0    5\n",
       "1    0\n",
       "2    4\n",
       "3    1\n",
       "4    9\n",
       "Name: class, dtype: category\n",
       "Categories (10, object): [0, 1, 2, 3, ..., 6, 7, 8, 9]"
      ]
     },
     "metadata": {},
     "output_type": "display_data"
    }
   ],
   "source": [
    "display(X.head(), y.head())"
   ]
  },
  {
   "cell_type": "code",
   "execution_count": 7,
   "metadata": {
    "scrolled": true
   },
   "outputs": [
    {
     "data": {
      "text/html": [
       "<div>\n",
       "<style scoped>\n",
       "    .dataframe tbody tr th:only-of-type {\n",
       "        vertical-align: middle;\n",
       "    }\n",
       "\n",
       "    .dataframe tbody tr th {\n",
       "        vertical-align: top;\n",
       "    }\n",
       "\n",
       "    .dataframe thead th {\n",
       "        text-align: right;\n",
       "    }\n",
       "</style>\n",
       "<table border=\"1\" class=\"dataframe\">\n",
       "  <thead>\n",
       "    <tr style=\"text-align: right;\">\n",
       "      <th></th>\n",
       "      <th>pixel0</th>\n",
       "      <th>pixel1</th>\n",
       "      <th>pixel2</th>\n",
       "      <th>pixel3</th>\n",
       "      <th>pixel4</th>\n",
       "      <th>pixel5</th>\n",
       "      <th>pixel6</th>\n",
       "      <th>pixel7</th>\n",
       "      <th>pixel8</th>\n",
       "      <th>pixel9</th>\n",
       "      <th>...</th>\n",
       "      <th>pixel775</th>\n",
       "      <th>pixel776</th>\n",
       "      <th>pixel777</th>\n",
       "      <th>pixel778</th>\n",
       "      <th>pixel779</th>\n",
       "      <th>pixel780</th>\n",
       "      <th>pixel781</th>\n",
       "      <th>pixel782</th>\n",
       "      <th>pixel783</th>\n",
       "      <th>class</th>\n",
       "    </tr>\n",
       "  </thead>\n",
       "  <tbody>\n",
       "    <tr>\n",
       "      <th>0</th>\n",
       "      <td>0.0</td>\n",
       "      <td>0.0</td>\n",
       "      <td>0.0</td>\n",
       "      <td>0.0</td>\n",
       "      <td>0.0</td>\n",
       "      <td>0.0</td>\n",
       "      <td>0.0</td>\n",
       "      <td>0.0</td>\n",
       "      <td>0.0</td>\n",
       "      <td>0.0</td>\n",
       "      <td>...</td>\n",
       "      <td>0.0</td>\n",
       "      <td>0.0</td>\n",
       "      <td>0.0</td>\n",
       "      <td>0.0</td>\n",
       "      <td>0.0</td>\n",
       "      <td>0.0</td>\n",
       "      <td>0.0</td>\n",
       "      <td>0.0</td>\n",
       "      <td>0.0</td>\n",
       "      <td>5</td>\n",
       "    </tr>\n",
       "    <tr>\n",
       "      <th>1</th>\n",
       "      <td>0.0</td>\n",
       "      <td>0.0</td>\n",
       "      <td>0.0</td>\n",
       "      <td>0.0</td>\n",
       "      <td>0.0</td>\n",
       "      <td>0.0</td>\n",
       "      <td>0.0</td>\n",
       "      <td>0.0</td>\n",
       "      <td>0.0</td>\n",
       "      <td>0.0</td>\n",
       "      <td>...</td>\n",
       "      <td>0.0</td>\n",
       "      <td>0.0</td>\n",
       "      <td>0.0</td>\n",
       "      <td>0.0</td>\n",
       "      <td>0.0</td>\n",
       "      <td>0.0</td>\n",
       "      <td>0.0</td>\n",
       "      <td>0.0</td>\n",
       "      <td>0.0</td>\n",
       "      <td>0</td>\n",
       "    </tr>\n",
       "    <tr>\n",
       "      <th>2</th>\n",
       "      <td>0.0</td>\n",
       "      <td>0.0</td>\n",
       "      <td>0.0</td>\n",
       "      <td>0.0</td>\n",
       "      <td>0.0</td>\n",
       "      <td>0.0</td>\n",
       "      <td>0.0</td>\n",
       "      <td>0.0</td>\n",
       "      <td>0.0</td>\n",
       "      <td>0.0</td>\n",
       "      <td>...</td>\n",
       "      <td>0.0</td>\n",
       "      <td>0.0</td>\n",
       "      <td>0.0</td>\n",
       "      <td>0.0</td>\n",
       "      <td>0.0</td>\n",
       "      <td>0.0</td>\n",
       "      <td>0.0</td>\n",
       "      <td>0.0</td>\n",
       "      <td>0.0</td>\n",
       "      <td>4</td>\n",
       "    </tr>\n",
       "    <tr>\n",
       "      <th>3</th>\n",
       "      <td>0.0</td>\n",
       "      <td>0.0</td>\n",
       "      <td>0.0</td>\n",
       "      <td>0.0</td>\n",
       "      <td>0.0</td>\n",
       "      <td>0.0</td>\n",
       "      <td>0.0</td>\n",
       "      <td>0.0</td>\n",
       "      <td>0.0</td>\n",
       "      <td>0.0</td>\n",
       "      <td>...</td>\n",
       "      <td>0.0</td>\n",
       "      <td>0.0</td>\n",
       "      <td>0.0</td>\n",
       "      <td>0.0</td>\n",
       "      <td>0.0</td>\n",
       "      <td>0.0</td>\n",
       "      <td>0.0</td>\n",
       "      <td>0.0</td>\n",
       "      <td>0.0</td>\n",
       "      <td>1</td>\n",
       "    </tr>\n",
       "    <tr>\n",
       "      <th>4</th>\n",
       "      <td>0.0</td>\n",
       "      <td>0.0</td>\n",
       "      <td>0.0</td>\n",
       "      <td>0.0</td>\n",
       "      <td>0.0</td>\n",
       "      <td>0.0</td>\n",
       "      <td>0.0</td>\n",
       "      <td>0.0</td>\n",
       "      <td>0.0</td>\n",
       "      <td>0.0</td>\n",
       "      <td>...</td>\n",
       "      <td>0.0</td>\n",
       "      <td>0.0</td>\n",
       "      <td>0.0</td>\n",
       "      <td>0.0</td>\n",
       "      <td>0.0</td>\n",
       "      <td>0.0</td>\n",
       "      <td>0.0</td>\n",
       "      <td>0.0</td>\n",
       "      <td>0.0</td>\n",
       "      <td>9</td>\n",
       "    </tr>\n",
       "  </tbody>\n",
       "</table>\n",
       "<p>5 rows × 785 columns</p>\n",
       "</div>"
      ],
      "text/plain": [
       "   pixel0  pixel1  pixel2  pixel3  pixel4  pixel5  pixel6  pixel7  pixel8  \\\n",
       "0     0.0     0.0     0.0     0.0     0.0     0.0     0.0     0.0     0.0   \n",
       "1     0.0     0.0     0.0     0.0     0.0     0.0     0.0     0.0     0.0   \n",
       "2     0.0     0.0     0.0     0.0     0.0     0.0     0.0     0.0     0.0   \n",
       "3     0.0     0.0     0.0     0.0     0.0     0.0     0.0     0.0     0.0   \n",
       "4     0.0     0.0     0.0     0.0     0.0     0.0     0.0     0.0     0.0   \n",
       "\n",
       "   pixel9  ...  pixel775  pixel776  pixel777  pixel778  pixel779  pixel780  \\\n",
       "0     0.0  ...       0.0       0.0       0.0       0.0       0.0       0.0   \n",
       "1     0.0  ...       0.0       0.0       0.0       0.0       0.0       0.0   \n",
       "2     0.0  ...       0.0       0.0       0.0       0.0       0.0       0.0   \n",
       "3     0.0  ...       0.0       0.0       0.0       0.0       0.0       0.0   \n",
       "4     0.0  ...       0.0       0.0       0.0       0.0       0.0       0.0   \n",
       "\n",
       "   pixel781  pixel782  pixel783  class  \n",
       "0       0.0       0.0       0.0      5  \n",
       "1       0.0       0.0       0.0      0  \n",
       "2       0.0       0.0       0.0      4  \n",
       "3       0.0       0.0       0.0      1  \n",
       "4       0.0       0.0       0.0      9  \n",
       "\n",
       "[5 rows x 785 columns]"
      ]
     },
     "metadata": {},
     "output_type": "display_data"
    },
    {
     "data": {
      "text/plain": [
       "(70000, None)"
      ]
     },
     "execution_count": 7,
     "metadata": {},
     "output_type": "execute_result"
    }
   ],
   "source": [
    "df = X.join(y)\n",
    "len(df), display(df.head())"
   ]
  },
  {
   "cell_type": "markdown",
   "metadata": {},
   "source": [
    "## Pre-processing"
   ]
  },
  {
   "cell_type": "markdown",
   "metadata": {},
   "source": [
    "### Binarizing"
   ]
  },
  {
   "cell_type": "markdown",
   "metadata": {},
   "source": [
    "Reducing to 0 and 1"
   ]
  },
  {
   "cell_type": "code",
   "execution_count": 12,
   "metadata": {},
   "outputs": [],
   "source": [
    "def get_share_and_count(df:pd.DataFrame, col:str='class'):\n",
    "    share = df[col].value_counts(normalize=True).rename('share')\n",
    "    count = df[col].value_counts(normalize=False).rename('count')\n",
    "    return share.to_frame().join(count)\n",
    "\n",
    "def make_binary(df:pd.DataFrame, set0:set, set1:set):\n",
    "    'Binarize any two sets of classes and return a DataFrame for only those classes labeled as False or True'\n",
    "    assert len(set0) > 0 and len(set1) > 0\n",
    "    assert set0 != set1\n",
    "    \n",
    "    df_b0 = df.loc[df['class'].isin(set0)].copy()\n",
    "    df_b1 = df.loc[df['class'].isin(set1)].copy()\n",
    "    df_b0['class'] = False\n",
    "    df_b1['class'] = True\n",
    "    \n",
    "    df_b = pd.concat((df_b0, df_b1))\n",
    "    df_b['class'] = df_b['class'].astype('category')\n",
    "    return df_b"
   ]
  },
  {
   "cell_type": "code",
   "execution_count": 13,
   "metadata": {
    "scrolled": true
   },
   "outputs": [
    {
     "name": "stdout",
     "output_type": "stream",
     "text": [
      "df: 70000, df_b: 21604\n"
     ]
    },
    {
     "data": {
      "text/html": [
       "<div>\n",
       "<style scoped>\n",
       "    .dataframe tbody tr th:only-of-type {\n",
       "        vertical-align: middle;\n",
       "    }\n",
       "\n",
       "    .dataframe tbody tr th {\n",
       "        vertical-align: top;\n",
       "    }\n",
       "\n",
       "    .dataframe thead th {\n",
       "        text-align: right;\n",
       "    }\n",
       "</style>\n",
       "<table border=\"1\" class=\"dataframe\">\n",
       "  <thead>\n",
       "    <tr style=\"text-align: right;\">\n",
       "      <th></th>\n",
       "      <th>share</th>\n",
       "      <th>count</th>\n",
       "    </tr>\n",
       "  </thead>\n",
       "  <tbody>\n",
       "    <tr>\n",
       "      <th>False</th>\n",
       "      <td>0.684133</td>\n",
       "      <td>14780</td>\n",
       "    </tr>\n",
       "    <tr>\n",
       "      <th>True</th>\n",
       "      <td>0.315867</td>\n",
       "      <td>6824</td>\n",
       "    </tr>\n",
       "  </tbody>\n",
       "</table>\n",
       "</div>"
      ],
      "text/plain": [
       "          share  count\n",
       "False  0.684133  14780\n",
       "True   0.315867   6824"
      ]
     },
     "metadata": {},
     "output_type": "display_data"
    },
    {
     "name": "stdout",
     "output_type": "stream",
     "text": [
      "CPU times: user 93.8 ms, sys: 281 ms, total: 375 ms\n",
      "Wall time: 374 ms\n"
     ]
    }
   ],
   "source": [
    "%%time\n",
    "df_b = make_binary(df, {'0', '1'}, {'4'})\n",
    "print(f'df: {len(df)}, df_b: {len(df_b)}')\n",
    "display(get_share_and_count(df_b))"
   ]
  },
  {
   "cell_type": "code",
   "execution_count": 14,
   "metadata": {
    "scrolled": true
   },
   "outputs": [
    {
     "name": "stdout",
     "output_type": "stream",
     "text": [
      "df: 70000, df_b: 13728\n",
      "CPU times: user 46.9 ms, sys: 234 ms, total: 281 ms\n",
      "Wall time: 272 ms\n"
     ]
    }
   ],
   "source": [
    "%%time\n",
    "df_b = make_binary(df, {'0'}, {'8'})\n",
    "print(f'df: {len(df)}, df_b: {len(df_b)}')"
   ]
  },
  {
   "cell_type": "markdown",
   "metadata": {},
   "source": [
    "### Get skewed training set & balanced test set"
   ]
  },
  {
   "cell_type": "code",
   "execution_count": 15,
   "metadata": {},
   "outputs": [],
   "source": [
    "def get_skewed_train_and_balanced_test_set(df_b:pd.DataFrame, train_frac:float=.8, skew_frac:float=.02,\n",
    "                                           class_to_skew:bool=True, verbose:bool=False):\n",
    "    '''Generates a balanced test set and a skewed training set with `class_to_skew` \n",
    "    making up the fraction `skew_frac` of the total.\n",
    "    \n",
    "    Works with the `df_b` produced by `make_binary`.\n",
    "    '''\n",
    "    df_test = df_b.sample(frac=1-train_frac)\n",
    "    df_train = df_b.loc[~df_b['class'].index.isin(df_test.index)]\n",
    "    \n",
    "    n = min(df_train['class'].value_counts().values)\n",
    "    n_skew = int(n * skew_frac / (1 - skew_frac))\n",
    "    \n",
    "    df_train = pd.concat((\n",
    "        df_train.loc[df_train['class']==class_to_skew].iloc[:n].sample(n=n_skew),\n",
    "        df_train.loc[df_train['class']!=class_to_skew].iloc[:n]\n",
    "    ))\n",
    "    \n",
    "    if verbose:\n",
    "        print(f'train set: {len(df_train)}')\n",
    "        display(get_share_and_count(df_train))\n",
    "        print(f'test set: {len(df_test)}')\n",
    "        display(get_share_and_count(df_test))\n",
    "    return df_train, df_test"
   ]
  },
  {
   "cell_type": "code",
   "execution_count": 16,
   "metadata": {},
   "outputs": [
    {
     "name": "stdout",
     "output_type": "stream",
     "text": [
      "train set: 5574\n"
     ]
    },
    {
     "data": {
      "text/html": [
       "<div>\n",
       "<style scoped>\n",
       "    .dataframe tbody tr th:only-of-type {\n",
       "        vertical-align: middle;\n",
       "    }\n",
       "\n",
       "    .dataframe tbody tr th {\n",
       "        vertical-align: top;\n",
       "    }\n",
       "\n",
       "    .dataframe thead th {\n",
       "        text-align: right;\n",
       "    }\n",
       "</style>\n",
       "<table border=\"1\" class=\"dataframe\">\n",
       "  <thead>\n",
       "    <tr style=\"text-align: right;\">\n",
       "      <th></th>\n",
       "      <th>share</th>\n",
       "      <th>count</th>\n",
       "    </tr>\n",
       "  </thead>\n",
       "  <tbody>\n",
       "    <tr>\n",
       "      <th>False</th>\n",
       "      <td>0.980086</td>\n",
       "      <td>5463</td>\n",
       "    </tr>\n",
       "    <tr>\n",
       "      <th>True</th>\n",
       "      <td>0.019914</td>\n",
       "      <td>111</td>\n",
       "    </tr>\n",
       "  </tbody>\n",
       "</table>\n",
       "</div>"
      ],
      "text/plain": [
       "          share  count\n",
       "False  0.980086   5463\n",
       "True   0.019914    111"
      ]
     },
     "metadata": {},
     "output_type": "display_data"
    },
    {
     "name": "stdout",
     "output_type": "stream",
     "text": [
      "test set: 2746\n"
     ]
    },
    {
     "data": {
      "text/html": [
       "<div>\n",
       "<style scoped>\n",
       "    .dataframe tbody tr th:only-of-type {\n",
       "        vertical-align: middle;\n",
       "    }\n",
       "\n",
       "    .dataframe tbody tr th {\n",
       "        vertical-align: top;\n",
       "    }\n",
       "\n",
       "    .dataframe thead th {\n",
       "        text-align: right;\n",
       "    }\n",
       "</style>\n",
       "<table border=\"1\" class=\"dataframe\">\n",
       "  <thead>\n",
       "    <tr style=\"text-align: right;\">\n",
       "      <th></th>\n",
       "      <th>share</th>\n",
       "      <th>count</th>\n",
       "    </tr>\n",
       "  </thead>\n",
       "  <tbody>\n",
       "    <tr>\n",
       "      <th>False</th>\n",
       "      <td>0.524399</td>\n",
       "      <td>1440</td>\n",
       "    </tr>\n",
       "    <tr>\n",
       "      <th>True</th>\n",
       "      <td>0.475601</td>\n",
       "      <td>1306</td>\n",
       "    </tr>\n",
       "  </tbody>\n",
       "</table>\n",
       "</div>"
      ],
      "text/plain": [
       "          share  count\n",
       "False  0.524399   1440\n",
       "True   0.475601   1306"
      ]
     },
     "metadata": {},
     "output_type": "display_data"
    },
    {
     "name": "stdout",
     "output_type": "stream",
     "text": [
      "CPU times: user 62.5 ms, sys: 93.8 ms, total: 156 ms\n",
      "Wall time: 131 ms\n"
     ]
    }
   ],
   "source": [
    "%%time\n",
    "df_train, df_test = get_skewed_train_and_balanced_test_set(df_b, train_frac=.8, skew_frac=.02, class_to_skew=True,\n",
    "                                                           verbose=True)"
   ]
  },
  {
   "cell_type": "code",
   "execution_count": 17,
   "metadata": {},
   "outputs": [],
   "source": [
    "def get_Xy(df:pd.DataFrame, x_col_pattern:str='pixel', y_col:str='class'):\n",
    "    x_cols = [c for c in df.columns if c.startswith(x_col_pattern)]\n",
    "    X = df.loc[:,].values.astype(float)\n",
    "    y = df.loc[:, y_col].values.astype(int)\n",
    "    return X, y"
   ]
  },
  {
   "cell_type": "code",
   "execution_count": 18,
   "metadata": {},
   "outputs": [
    {
     "data": {
      "text/plain": [
       "(array([[0., 0., 0., 0., 0.],\n",
       "        [0., 0., 0., 0., 0.],\n",
       "        [0., 0., 0., 0., 0.],\n",
       "        [0., 0., 0., 0., 0.],\n",
       "        [0., 0., 0., 0., 0.]]),\n",
       " array([1, 1, 1, 1, 1]),\n",
       " (5574, 785),\n",
       " (5574,))"
      ]
     },
     "execution_count": 18,
     "metadata": {},
     "output_type": "execute_result"
    }
   ],
   "source": [
    "X_train, y_train = get_Xy(df_train)\n",
    "X_train[:5,:5], y_train[:5], X_train.shape, y_train.shape"
   ]
  },
  {
   "cell_type": "code",
   "execution_count": 19,
   "metadata": {},
   "outputs": [
    {
     "data": {
      "text/plain": [
       "(array([[0., 0., 0., 0., 0.],\n",
       "        [0., 0., 0., 0., 0.],\n",
       "        [0., 0., 0., 0., 0.],\n",
       "        [0., 0., 0., 0., 0.],\n",
       "        [0., 0., 0., 0., 0.]]),\n",
       " array([1, 1, 0, 1, 0]),\n",
       " (2746, 785),\n",
       " (2746,))"
      ]
     },
     "execution_count": 19,
     "metadata": {},
     "output_type": "execute_result"
    }
   ],
   "source": [
    "X_test, y_test = get_Xy(df_test)\n",
    "X_test[:5,:5], y_test[:5], X_test.shape, y_test.shape"
   ]
  },
  {
   "cell_type": "markdown",
   "metadata": {},
   "source": [
    "### Impact of sampler on the cardinality of `X`"
   ]
  },
  {
   "cell_type": "code",
   "execution_count": 20,
   "metadata": {},
   "outputs": [],
   "source": [
    "def get_X_cardinality(X:np.ndarray):\n",
    "    return len(set([tuple(x) for x in X]))"
   ]
  },
  {
   "cell_type": "markdown",
   "metadata": {},
   "source": [
    "Unsampled"
   ]
  },
  {
   "cell_type": "code",
   "execution_count": 21,
   "metadata": {},
   "outputs": [
    {
     "name": "stdout",
     "output_type": "stream",
     "text": [
      "train - samples: 5574, cardinality: 5574\n"
     ]
    }
   ],
   "source": [
    "print(f'train - samples: {len(X_train)}, cardinality: {get_X_cardinality(X_train)}')"
   ]
  },
  {
   "cell_type": "markdown",
   "metadata": {},
   "source": [
    "`RandomOverSampler`"
   ]
  },
  {
   "cell_type": "code",
   "execution_count": 22,
   "metadata": {},
   "outputs": [
    {
     "name": "stdout",
     "output_type": "stream",
     "text": [
      "train - samples: 10926, cardinality: 5574\n"
     ]
    }
   ],
   "source": [
    "_X, _y = RandomOverSampler().fit_resample(X_train, y_train)\n",
    "print(f'train - samples: {len(_X)}, cardinality: {get_X_cardinality(_X)}')"
   ]
  },
  {
   "cell_type": "markdown",
   "metadata": {},
   "source": [
    "`SMOTE`"
   ]
  },
  {
   "cell_type": "code",
   "execution_count": 23,
   "metadata": {},
   "outputs": [
    {
     "name": "stdout",
     "output_type": "stream",
     "text": [
      "train - samples: 10926, cardinality: 10926\n"
     ]
    }
   ],
   "source": [
    "_X, _y = SMOTE().fit_resample(X_train, y_train)\n",
    "print(f'train - samples: {len(_X)}, cardinality: {get_X_cardinality(_X)}')"
   ]
  },
  {
   "cell_type": "markdown",
   "metadata": {},
   "source": [
    "## Going nuts"
   ]
  },
  {
   "cell_type": "code",
   "execution_count": 24,
   "metadata": {},
   "outputs": [],
   "source": [
    "def ELWMS(df:pd.DataFrame, set0:set={'0'}, set1:set={'1'}, n_rep:int=10, \n",
    "          train_frac:float=.8, skew_frac:float=.02, class_to_skew:bool=True,\n",
    "          model_specs:dict=None, model_class:base.ClassifierMixin=linear_model.LogisticRegression,\n",
    "          samplers:dict={'ROS':RandomOverSampler, 'SMOTE': SMOTE, 'nothing': None}, verbose:bool=False):\n",
    "    '''Eierlegendewollmilchsau (performs all the steps above repeatedly)\n",
    "    \n",
    "    set0: defines which MNIST classes are mapped to False/0\n",
    "    set1: defines which MNIST classes are mapped to True/1\n",
    "    train_frac: defines how large the training set is\n",
    "    skew_frac: defines how large the class True in the training set is\n",
    "    \n",
    "    Tip: If you want a tiny training set which is heavily skewed towards the class False\n",
    "    set `train_frac` = .1, `skew_frac` = .02 and `class_to_skew` = False. This yields\n",
    "    a training set with 2% True, 98% False, based on 10% of the complete data.\n",
    "    '''\n",
    "    \n",
    "    results = []\n",
    "    \n",
    "    if model_specs is None:\n",
    "        model_specs = dict()\n",
    "    elif isinstance(model_class, ensemble.RandomForestClassifier) and model_specs is None:\n",
    "        model_specs = dict(n_estimators=100, max_features='sqrt')\n",
    "    \n",
    "    \n",
    "    for rep in range(n_rep):\n",
    "        \n",
    "        # binarizing sets of MNIST classes\n",
    "        df_b = make_binary(df, set0, set1)\n",
    "        \n",
    "        # splitting and skewing\n",
    "        df_train, df_test = get_skewed_train_and_balanced_test_set(df_b, train_frac=train_frac, \n",
    "                                                                   skew_frac=skew_frac, \n",
    "                                                                   class_to_skew=class_to_skew)\n",
    "        if verbose:\n",
    "            print(f'\\nrep {rep+1}/{n_rep}\\n\\ttraining set: {len(df_train)}, test set: {len(df_test)}')\n",
    "            print('class share in training set')\n",
    "            display(get_share_and_count(df_train))\n",
    "            print('class share in test set')\n",
    "            display(get_share_and_count(df_test))\n",
    "        \n",
    "        # collecting X and y\n",
    "        X_train, y_train = get_Xy(df_train)\n",
    "        X_test, y_test = get_Xy(df_test)\n",
    "        \n",
    "        # going through the different samplers\n",
    "        for name, sampler in samplers.items():\n",
    "            if sampler is None:\n",
    "                _X_train, _y_train = X_train.copy(), y_train.copy()\n",
    "            else:\n",
    "                sam = sampler()\n",
    "                _X_train, _y_train = sam.fit_resample(X_train, y_train)\n",
    "\n",
    "            model = model_class(**model_specs)\n",
    "            model.fit(_X_train, _y_train)\n",
    "\n",
    "            y_pred = model.predict(X_test)\n",
    "            y_score = model.predict_proba(X_test)\n",
    "            roc_auc_True = metrics.roc_auc_score(y_test == True, y_score[:,1])\n",
    "            roc_auc_False = metrics.roc_auc_score(y_test == False, y_score[:,0])\n",
    "            \n",
    "            res = metrics.classification_report(y_test, y_pred, output_dict=True)\n",
    "            d = {k:v for k,v in res.items() if not isinstance(v,dict)}\n",
    "            d['sampler'] = name\n",
    "            d['1->roc auc'] = roc_auc_True\n",
    "            d['0->roc auc'] = roc_auc_False\n",
    "            for k,v in res.items():\n",
    "                if isinstance(v,dict):\n",
    "                    d.update({f'{k}->{_k}': _v for _k,_v in v.items()})\n",
    "            results.append(d)\n",
    "            \n",
    "    results = pd.DataFrame(results)\n",
    "    results['train_frac'] = train_frac\n",
    "    return results"
   ]
  },
  {
   "cell_type": "markdown",
   "metadata": {},
   "source": [
    "### Testing a single parameter combination"
   ]
  },
  {
   "cell_type": "code",
   "execution_count": null,
   "metadata": {
    "scrolled": true
   },
   "outputs": [],
   "source": [
    "samplers = {'ROS':RandomOverSampler, 'SMOTE': SMOTE, 'nothing': None}\n",
    "model_class = linear_model.LogisticRegression\n",
    "model_specs = {'solver':'lbfgs'}\n",
    "\n",
    "# assigning classes into groups for binarization (can use multiple classes per group)\n",
    "set0 = {'0'}  # all 0s belong to set 0\n",
    "set1 = {'8'}  # all 8s belong to set 8\n",
    "\n",
    "results = ELWMS(df, \n",
    "                set0=set0, set1=set1, \n",
    "                n_rep=10, \n",
    "                train_frac=.8, skew_frac=.02, class_to_skew=True,\n",
    "                model_class=model_class, model_specs=model_specs, samplers=samplers,\n",
    "                verbose=True)"
   ]
  },
  {
   "cell_type": "code",
   "execution_count": 33,
   "metadata": {},
   "outputs": [
    {
     "data": {
      "text/html": [
       "<div>\n",
       "<style scoped>\n",
       "    .dataframe tbody tr th:only-of-type {\n",
       "        vertical-align: middle;\n",
       "    }\n",
       "\n",
       "    .dataframe tbody tr th {\n",
       "        vertical-align: top;\n",
       "    }\n",
       "\n",
       "    .dataframe thead th {\n",
       "        text-align: right;\n",
       "    }\n",
       "</style>\n",
       "<table border=\"1\" class=\"dataframe\">\n",
       "  <thead>\n",
       "    <tr style=\"text-align: right;\">\n",
       "      <th></th>\n",
       "      <th>accuracy</th>\n",
       "      <th>sampler</th>\n",
       "      <th>1-&gt;roc auc</th>\n",
       "      <th>0-&gt;roc auc</th>\n",
       "      <th>0-&gt;precision</th>\n",
       "      <th>0-&gt;recall</th>\n",
       "      <th>0-&gt;f1-score</th>\n",
       "      <th>0-&gt;support</th>\n",
       "      <th>1-&gt;precision</th>\n",
       "      <th>1-&gt;recall</th>\n",
       "      <th>...</th>\n",
       "      <th>1-&gt;support</th>\n",
       "      <th>macro avg-&gt;precision</th>\n",
       "      <th>macro avg-&gt;recall</th>\n",
       "      <th>macro avg-&gt;f1-score</th>\n",
       "      <th>macro avg-&gt;support</th>\n",
       "      <th>weighted avg-&gt;precision</th>\n",
       "      <th>weighted avg-&gt;recall</th>\n",
       "      <th>weighted avg-&gt;f1-score</th>\n",
       "      <th>weighted avg-&gt;support</th>\n",
       "      <th>train_frac</th>\n",
       "    </tr>\n",
       "  </thead>\n",
       "  <tbody>\n",
       "    <tr>\n",
       "      <th>0</th>\n",
       "      <td>0.961763</td>\n",
       "      <td>ROS</td>\n",
       "      <td>0.997056</td>\n",
       "      <td>0.996041</td>\n",
       "      <td>0.931607</td>\n",
       "      <td>0.998577</td>\n",
       "      <td>0.963930</td>\n",
       "      <td>1405</td>\n",
       "      <td>0.998387</td>\n",
       "      <td>0.923192</td>\n",
       "      <td>...</td>\n",
       "      <td>1341</td>\n",
       "      <td>0.964997</td>\n",
       "      <td>0.960884</td>\n",
       "      <td>0.961624</td>\n",
       "      <td>2746</td>\n",
       "      <td>0.964219</td>\n",
       "      <td>0.961763</td>\n",
       "      <td>0.961678</td>\n",
       "      <td>2746</td>\n",
       "      <td>0.8</td>\n",
       "    </tr>\n",
       "    <tr>\n",
       "      <th>1</th>\n",
       "      <td>0.959942</td>\n",
       "      <td>SMOTE</td>\n",
       "      <td>0.997016</td>\n",
       "      <td>0.996024</td>\n",
       "      <td>0.928524</td>\n",
       "      <td>0.998577</td>\n",
       "      <td>0.962277</td>\n",
       "      <td>1405</td>\n",
       "      <td>0.998381</td>\n",
       "      <td>0.919463</td>\n",
       "      <td>...</td>\n",
       "      <td>1341</td>\n",
       "      <td>0.963452</td>\n",
       "      <td>0.959020</td>\n",
       "      <td>0.959788</td>\n",
       "      <td>2746</td>\n",
       "      <td>0.962638</td>\n",
       "      <td>0.959942</td>\n",
       "      <td>0.959846</td>\n",
       "      <td>2746</td>\n",
       "      <td>0.8</td>\n",
       "    </tr>\n",
       "    <tr>\n",
       "      <th>2</th>\n",
       "      <td>0.953751</td>\n",
       "      <td>nothing</td>\n",
       "      <td>0.996992</td>\n",
       "      <td>0.996210</td>\n",
       "      <td>0.918194</td>\n",
       "      <td>0.998577</td>\n",
       "      <td>0.956700</td>\n",
       "      <td>1405</td>\n",
       "      <td>0.998358</td>\n",
       "      <td>0.906786</td>\n",
       "      <td>...</td>\n",
       "      <td>1341</td>\n",
       "      <td>0.958276</td>\n",
       "      <td>0.952681</td>\n",
       "      <td>0.953535</td>\n",
       "      <td>2746</td>\n",
       "      <td>0.957342</td>\n",
       "      <td>0.953751</td>\n",
       "      <td>0.953609</td>\n",
       "      <td>2746</td>\n",
       "      <td>0.8</td>\n",
       "    </tr>\n",
       "    <tr>\n",
       "      <th>3</th>\n",
       "      <td>0.967225</td>\n",
       "      <td>ROS</td>\n",
       "      <td>0.997044</td>\n",
       "      <td>0.996764</td>\n",
       "      <td>0.939142</td>\n",
       "      <td>0.998529</td>\n",
       "      <td>0.967926</td>\n",
       "      <td>1360</td>\n",
       "      <td>0.998462</td>\n",
       "      <td>0.936508</td>\n",
       "      <td>...</td>\n",
       "      <td>1386</td>\n",
       "      <td>0.968802</td>\n",
       "      <td>0.967519</td>\n",
       "      <td>0.967209</td>\n",
       "      <td>2746</td>\n",
       "      <td>0.969083</td>\n",
       "      <td>0.967225</td>\n",
       "      <td>0.967203</td>\n",
       "      <td>2746</td>\n",
       "      <td>0.8</td>\n",
       "    </tr>\n",
       "    <tr>\n",
       "      <th>4</th>\n",
       "      <td>0.966133</td>\n",
       "      <td>SMOTE</td>\n",
       "      <td>0.997057</td>\n",
       "      <td>0.996772</td>\n",
       "      <td>0.937198</td>\n",
       "      <td>0.998529</td>\n",
       "      <td>0.966892</td>\n",
       "      <td>1360</td>\n",
       "      <td>0.998458</td>\n",
       "      <td>0.934343</td>\n",
       "      <td>...</td>\n",
       "      <td>1386</td>\n",
       "      <td>0.967828</td>\n",
       "      <td>0.966436</td>\n",
       "      <td>0.966115</td>\n",
       "      <td>2746</td>\n",
       "      <td>0.968118</td>\n",
       "      <td>0.966133</td>\n",
       "      <td>0.966107</td>\n",
       "      <td>2746</td>\n",
       "      <td>0.8</td>\n",
       "    </tr>\n",
       "  </tbody>\n",
       "</table>\n",
       "<p>5 rows × 21 columns</p>\n",
       "</div>"
      ],
      "text/plain": [
       "   accuracy  sampler  1->roc auc  0->roc auc  0->precision  0->recall  \\\n",
       "0  0.961763      ROS    0.997056    0.996041      0.931607   0.998577   \n",
       "1  0.959942    SMOTE    0.997016    0.996024      0.928524   0.998577   \n",
       "2  0.953751  nothing    0.996992    0.996210      0.918194   0.998577   \n",
       "3  0.967225      ROS    0.997044    0.996764      0.939142   0.998529   \n",
       "4  0.966133    SMOTE    0.997057    0.996772      0.937198   0.998529   \n",
       "\n",
       "   0->f1-score  0->support  1->precision  1->recall  ...  1->support  \\\n",
       "0     0.963930        1405      0.998387   0.923192  ...        1341   \n",
       "1     0.962277        1405      0.998381   0.919463  ...        1341   \n",
       "2     0.956700        1405      0.998358   0.906786  ...        1341   \n",
       "3     0.967926        1360      0.998462   0.936508  ...        1386   \n",
       "4     0.966892        1360      0.998458   0.934343  ...        1386   \n",
       "\n",
       "   macro avg->precision  macro avg->recall  macro avg->f1-score  \\\n",
       "0              0.964997           0.960884             0.961624   \n",
       "1              0.963452           0.959020             0.959788   \n",
       "2              0.958276           0.952681             0.953535   \n",
       "3              0.968802           0.967519             0.967209   \n",
       "4              0.967828           0.966436             0.966115   \n",
       "\n",
       "   macro avg->support  weighted avg->precision  weighted avg->recall  \\\n",
       "0                2746                 0.964219              0.961763   \n",
       "1                2746                 0.962638              0.959942   \n",
       "2                2746                 0.957342              0.953751   \n",
       "3                2746                 0.969083              0.967225   \n",
       "4                2746                 0.968118              0.966133   \n",
       "\n",
       "   weighted avg->f1-score  weighted avg->support  train_frac  \n",
       "0                0.961678                   2746         0.8  \n",
       "1                0.959846                   2746         0.8  \n",
       "2                0.953609                   2746         0.8  \n",
       "3                0.967203                   2746         0.8  \n",
       "4                0.966107                   2746         0.8  \n",
       "\n",
       "[5 rows x 21 columns]"
      ]
     },
     "execution_count": 33,
     "metadata": {},
     "output_type": "execute_result"
    }
   ],
   "source": [
    "results.head()"
   ]
  },
  {
   "cell_type": "code",
   "execution_count": 34,
   "metadata": {},
   "outputs": [
    {
     "data": {
      "image/png": "[encoded data removed]",
      "text/plain": [
       "<Figure size 864x432 with 1 Axes>"
      ]
     },
     "metadata": {
      "needs_background": "light"
     },
     "output_type": "display_data"
    }
   ],
   "source": [
    "fig, ax = plt.subplots(figsize=(12,6))\n",
    "sns.boxplot(data=results, x='sampler', y='accuracy', ax=ax)\n",
    "plt.show()"
   ]
  },
  {
   "cell_type": "markdown",
   "metadata": {},
   "source": [
    "To more clearly see the difference of using samplers, the scores are subtracted by the median of the values obtained for the case without a sampler, labelled 'nothing'."
   ]
  },
  {
   "cell_type": "code",
   "execution_count": 35,
   "metadata": {},
   "outputs": [],
   "source": [
    "def get_score_difference_to_reference_sampler(df:pd.DataFrame, agg_func_for_reference:Callable=np.median,\n",
    "                                      reference_sampler:str='nothing'):\n",
    "    'Expects the output of `ELWMS` as input'\n",
    "    delta = df.copy()\n",
    "    cols = [c for c in delta.columns if c != 'sampler' and c!= 'train_frac']\n",
    "    ref = delta.loc[delta['sampler']=='nothing', cols].agg(agg_func_for_reference, axis=0)\n",
    "    delta.loc[:, cols] = delta.loc[:, cols] - ref\n",
    "    return delta"
   ]
  },
  {
   "cell_type": "code",
   "execution_count": 36,
   "metadata": {},
   "outputs": [
    {
     "data": {
      "text/html": [
       "<div>\n",
       "<style scoped>\n",
       "    .dataframe tbody tr th:only-of-type {\n",
       "        vertical-align: middle;\n",
       "    }\n",
       "\n",
       "    .dataframe tbody tr th {\n",
       "        vertical-align: top;\n",
       "    }\n",
       "\n",
       "    .dataframe thead th {\n",
       "        text-align: right;\n",
       "    }\n",
       "</style>\n",
       "<table border=\"1\" class=\"dataframe\">\n",
       "  <thead>\n",
       "    <tr style=\"text-align: right;\">\n",
       "      <th></th>\n",
       "      <th>accuracy</th>\n",
       "      <th>sampler</th>\n",
       "      <th>1-&gt;roc auc</th>\n",
       "      <th>0-&gt;roc auc</th>\n",
       "      <th>0-&gt;precision</th>\n",
       "      <th>0-&gt;recall</th>\n",
       "      <th>0-&gt;f1-score</th>\n",
       "      <th>0-&gt;support</th>\n",
       "      <th>1-&gt;precision</th>\n",
       "      <th>1-&gt;recall</th>\n",
       "      <th>...</th>\n",
       "      <th>1-&gt;support</th>\n",
       "      <th>macro avg-&gt;precision</th>\n",
       "      <th>macro avg-&gt;recall</th>\n",
       "      <th>macro avg-&gt;f1-score</th>\n",
       "      <th>macro avg-&gt;support</th>\n",
       "      <th>weighted avg-&gt;precision</th>\n",
       "      <th>weighted avg-&gt;recall</th>\n",
       "      <th>weighted avg-&gt;f1-score</th>\n",
       "      <th>weighted avg-&gt;support</th>\n",
       "      <th>train_frac</th>\n",
       "    </tr>\n",
       "  </thead>\n",
       "  <tbody>\n",
       "    <tr>\n",
       "      <th>0</th>\n",
       "      <td>0.009468</td>\n",
       "      <td>ROS</td>\n",
       "      <td>-0.000159</td>\n",
       "      <td>-0.000958</td>\n",
       "      <td>0.015908</td>\n",
       "      <td>-0.000347</td>\n",
       "      <td>0.008605</td>\n",
       "      <td>24.0</td>\n",
       "      <td>-0.000433</td>\n",
       "      <td>0.019395</td>\n",
       "      <td>...</td>\n",
       "      <td>-24.0</td>\n",
       "      <td>0.007947</td>\n",
       "      <td>0.009341</td>\n",
       "      <td>0.009520</td>\n",
       "      <td>0.0</td>\n",
       "      <td>0.007946</td>\n",
       "      <td>0.009468</td>\n",
       "      <td>0.009525</td>\n",
       "      <td>0.0</td>\n",
       "      <td>0.8</td>\n",
       "    </tr>\n",
       "    <tr>\n",
       "      <th>1</th>\n",
       "      <td>0.007647</td>\n",
       "      <td>SMOTE</td>\n",
       "      <td>-0.000200</td>\n",
       "      <td>-0.000975</td>\n",
       "      <td>0.012826</td>\n",
       "      <td>-0.000347</td>\n",
       "      <td>0.006952</td>\n",
       "      <td>24.0</td>\n",
       "      <td>-0.000439</td>\n",
       "      <td>0.015666</td>\n",
       "      <td>...</td>\n",
       "      <td>-24.0</td>\n",
       "      <td>0.006403</td>\n",
       "      <td>0.007477</td>\n",
       "      <td>0.007684</td>\n",
       "      <td>0.0</td>\n",
       "      <td>0.006365</td>\n",
       "      <td>0.007647</td>\n",
       "      <td>0.007692</td>\n",
       "      <td>0.0</td>\n",
       "      <td>0.8</td>\n",
       "    </tr>\n",
       "    <tr>\n",
       "      <th>2</th>\n",
       "      <td>0.001457</td>\n",
       "      <td>nothing</td>\n",
       "      <td>-0.000223</td>\n",
       "      <td>-0.000788</td>\n",
       "      <td>0.002495</td>\n",
       "      <td>-0.000347</td>\n",
       "      <td>0.001375</td>\n",
       "      <td>24.0</td>\n",
       "      <td>-0.000462</td>\n",
       "      <td>0.002989</td>\n",
       "      <td>...</td>\n",
       "      <td>-24.0</td>\n",
       "      <td>0.001226</td>\n",
       "      <td>0.001139</td>\n",
       "      <td>0.001432</td>\n",
       "      <td>0.0</td>\n",
       "      <td>0.001069</td>\n",
       "      <td>0.001457</td>\n",
       "      <td>0.001456</td>\n",
       "      <td>0.0</td>\n",
       "      <td>0.8</td>\n",
       "    </tr>\n",
       "    <tr>\n",
       "      <th>3</th>\n",
       "      <td>0.014931</td>\n",
       "      <td>ROS</td>\n",
       "      <td>-0.000171</td>\n",
       "      <td>-0.000235</td>\n",
       "      <td>0.023444</td>\n",
       "      <td>-0.000394</td>\n",
       "      <td>0.012601</td>\n",
       "      <td>-21.0</td>\n",
       "      <td>-0.000358</td>\n",
       "      <td>0.032711</td>\n",
       "      <td>...</td>\n",
       "      <td>21.0</td>\n",
       "      <td>0.011752</td>\n",
       "      <td>0.015976</td>\n",
       "      <td>0.015106</td>\n",
       "      <td>0.0</td>\n",
       "      <td>0.012810</td>\n",
       "      <td>0.014931</td>\n",
       "      <td>0.015049</td>\n",
       "      <td>0.0</td>\n",
       "      <td>0.8</td>\n",
       "    </tr>\n",
       "    <tr>\n",
       "      <th>4</th>\n",
       "      <td>0.013838</td>\n",
       "      <td>SMOTE</td>\n",
       "      <td>-0.000158</td>\n",
       "      <td>-0.000227</td>\n",
       "      <td>0.021499</td>\n",
       "      <td>-0.000394</td>\n",
       "      <td>0.011567</td>\n",
       "      <td>-21.0</td>\n",
       "      <td>-0.000362</td>\n",
       "      <td>0.030546</td>\n",
       "      <td>...</td>\n",
       "      <td>21.0</td>\n",
       "      <td>0.010778</td>\n",
       "      <td>0.014894</td>\n",
       "      <td>0.014011</td>\n",
       "      <td>0.0</td>\n",
       "      <td>0.011845</td>\n",
       "      <td>0.013838</td>\n",
       "      <td>0.013954</td>\n",
       "      <td>0.0</td>\n",
       "      <td>0.8</td>\n",
       "    </tr>\n",
       "  </tbody>\n",
       "</table>\n",
       "<p>5 rows × 21 columns</p>\n",
       "</div>"
      ],
      "text/plain": [
       "   accuracy  sampler  1->roc auc  0->roc auc  0->precision  0->recall  \\\n",
       "0  0.009468      ROS   -0.000159   -0.000958      0.015908  -0.000347   \n",
       "1  0.007647    SMOTE   -0.000200   -0.000975      0.012826  -0.000347   \n",
       "2  0.001457  nothing   -0.000223   -0.000788      0.002495  -0.000347   \n",
       "3  0.014931      ROS   -0.000171   -0.000235      0.023444  -0.000394   \n",
       "4  0.013838    SMOTE   -0.000158   -0.000227      0.021499  -0.000394   \n",
       "\n",
       "   0->f1-score  0->support  1->precision  1->recall  ...  1->support  \\\n",
       "0     0.008605        24.0     -0.000433   0.019395  ...       -24.0   \n",
       "1     0.006952        24.0     -0.000439   0.015666  ...       -24.0   \n",
       "2     0.001375        24.0     -0.000462   0.002989  ...       -24.0   \n",
       "3     0.012601       -21.0     -0.000358   0.032711  ...        21.0   \n",
       "4     0.011567       -21.0     -0.000362   0.030546  ...        21.0   \n",
       "\n",
       "   macro avg->precision  macro avg->recall  macro avg->f1-score  \\\n",
       "0              0.007947           0.009341             0.009520   \n",
       "1              0.006403           0.007477             0.007684   \n",
       "2              0.001226           0.001139             0.001432   \n",
       "3              0.011752           0.015976             0.015106   \n",
       "4              0.010778           0.014894             0.014011   \n",
       "\n",
       "   macro avg->support  weighted avg->precision  weighted avg->recall  \\\n",
       "0                 0.0                 0.007946              0.009468   \n",
       "1                 0.0                 0.006365              0.007647   \n",
       "2                 0.0                 0.001069              0.001457   \n",
       "3                 0.0                 0.012810              0.014931   \n",
       "4                 0.0                 0.011845              0.013838   \n",
       "\n",
       "   weighted avg->f1-score  weighted avg->support  train_frac  \n",
       "0                0.009525                    0.0         0.8  \n",
       "1                0.007692                    0.0         0.8  \n",
       "2                0.001456                    0.0         0.8  \n",
       "3                0.015049                    0.0         0.8  \n",
       "4                0.013954                    0.0         0.8  \n",
       "\n",
       "[5 rows x 21 columns]"
      ]
     },
     "execution_count": 36,
     "metadata": {},
     "output_type": "execute_result"
    }
   ],
   "source": [
    "results_delta = get_score_difference_to_reference_sampler(results,\n",
    "                                                          agg_func_for_reference=np.median)\n",
    "results_delta.head()"
   ]
  },
  {
   "cell_type": "code",
   "execution_count": 37,
   "metadata": {},
   "outputs": [
    {
     "data": {
      "image/png": "[encoded data removed]",
      "text/plain": [
       "<Figure size 864x432 with 1 Axes>"
      ]
     },
     "metadata": {
      "needs_background": "light"
     },
     "output_type": "display_data"
    }
   ],
   "source": [
    "fig, ax = plt.subplots(figsize=(12,6))\n",
    "sns.boxplot(data=results_delta, x='sampler', y='accuracy', ax=ax)\n",
    "plt.show()"
   ]
  },
  {
   "cell_type": "markdown",
   "metadata": {},
   "source": [
    "### Scanning a range of `train_frac` values"
   ]
  },
  {
   "cell_type": "code",
   "execution_count": 73,
   "metadata": {},
   "outputs": [],
   "source": [
    "samplers = {'ROS':RandomOverSampler, 'SMOTE': SMOTE, 'nothing': None}\n",
    "model_class = linear_model.LogisticRegression\n",
    "model_specs = {'solver':'lbfgs'}\n",
    "\n",
    "set0 = {'0','8'}\n",
    "set1 = {'1','2'}\n",
    "\n",
    "n_rep = 20\n",
    "\n",
    "# The value True will make up about 2% of the training set\n",
    "skew_frac = .02\n",
    "class_to_skew = True\n",
    "\n",
    "settings = dict(samplers=samplers, model_class=model_class, model_specs=model_specs, set0=set0, set1=set1,\n",
    "                n_rep=n_rep, skew_frac=skew_frac, class_to_skew=class_to_skew)\n",
    "\n",
    "train_frac_range = [.8, .6, .4, .2, .1]"
   ]
  },
  {
   "cell_type": "code",
   "execution_count": null,
   "metadata": {
    "scrolled": true
   },
   "outputs": [],
   "source": [
    "%%time\n",
    "scan_results = []\n",
    "scan_results_delta = []\n",
    "\n",
    "for train_frac in tqdm.tqdm(train_frac_range, total=len(train_frac_range)):\n",
    "    _results = ELWMS(df, train_frac=train_frac,\n",
    "                     **settings)\n",
    "    scan_results.append(_results)\n",
    "    \n",
    "    # for clearer visualisation of the effect of samplers vs no sampling\n",
    "    _results_delta = get_score_difference_to_reference_sampler(_results,\n",
    "                                                               agg_func_for_reference=np.median)\n",
    "    \n",
    "    scan_results_delta.append(_results_delta)\n",
    "        \n",
    "scan_results = pd.concat(scan_results, ignore_index=True)\n",
    "scan_results_delta = pd.concat(scan_results_delta, ignore_index=True)"
   ]
  },
  {
   "cell_type": "markdown",
   "metadata": {},
   "source": [
    "#### Plotting score vs sampler and training / test set size"
   ]
  },
  {
   "cell_type": "markdown",
   "metadata": {},
   "source": [
    "Grouping by sampler"
   ]
  },
  {
   "cell_type": "code",
   "execution_count": 58,
   "metadata": {
    "scrolled": true
   },
   "outputs": [
    {
     "data": {
      "image/png": "[encoded data removed]",
      "text/plain": [
       "<Figure size 864x432 with 1 Axes>"
      ]
     },
     "metadata": {
      "needs_background": "light"
     },
     "output_type": "display_data"
    }
   ],
   "source": [
    "fig, ax = plt.subplots(figsize=(12,6))\n",
    "ax = sns.boxplot(x='sampler', y='accuracy', hue='train_frac', data=scan_results,\n",
    "                 ax=ax, palette='viridis')\n",
    "ax.set(title='Sample size effect for each sampler type')\n",
    "plt.show()"
   ]
  },
  {
   "cell_type": "markdown",
   "metadata": {},
   "source": [
    "Grouping by `train_frac`"
   ]
  },
  {
   "cell_type": "code",
   "execution_count": 60,
   "metadata": {
    "scrolled": true
   },
   "outputs": [
    {
     "data": {
      "image/png": "[encoded data removed]",
      "text/plain": [
       "<Figure size 864x432 with 1 Axes>"
      ]
     },
     "metadata": {
      "needs_background": "light"
     },
     "output_type": "display_data"
    }
   ],
   "source": [
    "fig, ax = plt.subplots(figsize=(12,6))\n",
    "ax = sns.boxplot(x='train_frac', y='accuracy', hue='sampler', data=scan_results,\n",
    "                 ax=ax)\n",
    "ax.set(title='Sampler type effect for each sample size')\n",
    "plt.show()"
   ]
  },
  {
   "cell_type": "markdown",
   "metadata": {},
   "source": [
    "#### Plotting score DIFFERENCE vs sampler and training / test set size"
   ]
  },
  {
   "cell_type": "markdown",
   "metadata": {},
   "source": [
    "To more clearly see the difference of using samplers, the scores are subtracted by the median of the values obtained for the case without a sampler, labelled 'nothing'."
   ]
  },
  {
   "cell_type": "code",
   "execution_count": 52,
   "metadata": {},
   "outputs": [],
   "source": [
    "plot_mask = scan_results_delta['sampler']!='nothing'"
   ]
  },
  {
   "cell_type": "markdown",
   "metadata": {},
   "source": [
    "**Accuracy** - Grouping by sampler"
   ]
  },
  {
   "cell_type": "code",
   "execution_count": 70,
   "metadata": {
    "scrolled": true
   },
   "outputs": [
    {
     "data": {
      "image/png": "[encoded data removed]",
      "text/plain": [
       "<Figure size 864x432 with 1 Axes>"
      ]
     },
     "metadata": {
      "needs_background": "light"
     },
     "output_type": "display_data"
    }
   ],
   "source": [
    "fig, ax = plt.subplots(figsize=(12,6))\n",
    "ax = sns.boxplot(x='sampler', y='accuracy', hue='train_frac', \n",
    "                 data=scan_results_delta.loc[plot_mask,:],\n",
    "                 ax=ax, palette='viridis')\n",
    "xlim = ax.get_xlim()\n",
    "ax.plot(xlim, [0,0], '-g', lw=5)\n",
    "ax.set(title='Sample size effect for each sampler type', xlim=xlim)\n",
    "plt.show()"
   ]
  },
  {
   "cell_type": "markdown",
   "metadata": {},
   "source": [
    "**Accuracy** - Grouping by `train_frac`"
   ]
  },
  {
   "cell_type": "code",
   "execution_count": 63,
   "metadata": {
    "scrolled": true
   },
   "outputs": [
    {
     "data": {
      "image/png": "[encoded data removed]",
      "text/plain": [
       "<Figure size 864x432 with 1 Axes>"
      ]
     },
     "metadata": {
      "needs_background": "light"
     },
     "output_type": "display_data"
    }
   ],
   "source": [
    "fig, ax = plt.subplots(figsize=(12,6))\n",
    "ax = sns.boxplot(x='train_frac', y='accuracy', hue='sampler', \n",
    "                 data=scan_results_delta.loc[plot_mask,:],\n",
    "                 ax=ax)\n",
    "ax.set(title='Sampler type effect for each sample size')\n",
    "plt.show()"
   ]
  },
  {
   "cell_type": "markdown",
   "metadata": {},
   "source": [
    "**F1-score (for 1)** Grouping by sampler"
   ]
  },
  {
   "cell_type": "code",
   "execution_count": 71,
   "metadata": {
    "scrolled": true
   },
   "outputs": [
    {
     "data": {
      "image/png": "[encoded data removed]",
      "text/plain": [
       "<Figure size 864x432 with 1 Axes>"
      ]
     },
     "metadata": {
      "needs_background": "light"
     },
     "output_type": "display_data"
    }
   ],
   "source": [
    "fig, ax = plt.subplots(figsize=(12,6))\n",
    "ax = sns.boxplot(x='sampler', y='1->f1-score', hue='train_frac', \n",
    "                 data=scan_results_delta.loc[plot_mask],\n",
    "                 ax=ax, palette='viridis')\n",
    "xlim = ax.get_xlim()\n",
    "ax.plot(xlim, [0,0], '-g', lw=5)\n",
    "ax.set(title='Sample size effect for each sampler type', xlim=xlim)\n",
    "plt.show()"
   ]
  },
  {
   "cell_type": "markdown",
   "metadata": {},
   "source": [
    "**F1-score (for 1)** Grouping by `train_frac`"
   ]
  },
  {
   "cell_type": "code",
   "execution_count": 56,
   "metadata": {
    "scrolled": false
   },
   "outputs": [
    {
     "data": {
      "image/png": "[encoded data removed]",
      "text/plain": [
       "<Figure size 864x432 with 1 Axes>"
      ]
     },
     "metadata": {
      "needs_background": "light"
     },
     "output_type": "display_data"
    }
   ],
   "source": [
    "fig, ax = plt.subplots(figsize=(12,6))\n",
    "ax = sns.boxplot(x='train_frac', y='1->f1-score', hue='sampler', \n",
    "                 data=scan_results_delta.loc[plot_mask],\n",
    "                 ax=ax)\n",
    "ax.set(title='Sampler type effect for each sample size')\n",
    "plt.show()"
   ]
  },
  {
   "cell_type": "markdown",
   "metadata": {},
   "source": [
    "## Summary"
   ]
  },
  {
   "cell_type": "markdown",
   "metadata": {},
   "source": [
    "It seems the samplers `RandomOverSampler` and `SMOTE` behave similar, using their default settings, in showing increasingly larger gains over no sampler ('nothing') the smaller the training data set is."
   ]
  }
 ],
 "metadata": {
  "kernelspec": {
   "display_name": "Python [conda env:py37_imbalanced]",
   "language": "python",
   "name": "conda-env-py37_imbalanced-py"
  },
  "language_info": {
   "codemirror_mode": {
    "name": "ipython",
    "version": 3
   },
   "file_extension": ".py",
   "mimetype": "text/x-python",
   "name": "python",
   "nbconvert_exporter": "python",
   "pygments_lexer": "ipython3",
   "version": "3.7.7"
  },
  "toc": {
   "base_numbering": 1,
   "nav_menu": {
    "height": "248px",
    "width": "354px"
   },
   "number_sections": true,
   "sideBar": true,
   "skip_h1_title": false,
   "title_cell": "Table of Contents",
   "title_sidebar": "Contents",
   "toc_cell": false,
   "toc_position": {},
   "toc_section_display": true,
   "toc_window_display": false
  }
 },
 "nbformat": 4,
 "nbformat_minor": 4
}
